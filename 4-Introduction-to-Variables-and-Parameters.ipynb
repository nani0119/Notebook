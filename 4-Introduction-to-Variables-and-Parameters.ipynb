{
 "cells": [
  {
   "cell_type": "markdown",
   "metadata": {},
   "source": [
    "# 变量替换"
   ]
  },
  {
   "cell_type": "markdown",
   "metadata": {},
   "source": [
    "1. 变量使用等号进行赋值"
   ]
  },
  {
   "cell_type": "code",
   "execution_count": 1,
   "metadata": {},
   "outputs": [],
   "source": [
    "hello=\"A B C     D\""
   ]
  },
  {
   "cell_type": "markdown",
   "metadata": {},
   "source": [
    "2. 使用$符号对变量进行引用"
   ]
  },
  {
   "cell_type": "code",
   "execution_count": 2,
   "metadata": {},
   "outputs": [
    {
     "name": "stdout",
     "output_type": "stream",
     "text": [
      "A B C D\n"
     ]
    }
   ],
   "source": [
    "echo $hello"
   ]
  },
  {
   "cell_type": "markdown",
   "metadata": {},
   "source": [
    "VARIABLE =value      //解释器将VARIABLE解释为命令，=value做为参数\n",
    "\n",
    "VARIABLE= value      //解释权将value解释为命令，VARIABLE做为传入的环境变量"
   ]
  },
  {
   "cell_type": "markdown",
   "metadata": {},
   "source": [
    "3. ${variable}的简写"
   ]
  },
  {
   "cell_type": "code",
   "execution_count": 3,
   "metadata": {},
   "outputs": [
    {
     "name": "stdout",
     "output_type": "stream",
     "text": [
      "A B C D\n"
     ]
    }
   ],
   "source": [
    "echo ${hello}"
   ]
  },
  {
   "cell_type": "markdown",
   "metadata": {},
   "source": [
    "4. 使用引号的差异"
   ]
  },
  {
   "cell_type": "markdown",
   "metadata": {},
   "source": [
    " 引用一个变量将保留其中的空白,如果是变量替换就不会保留了."
   ]
  },
  {
   "cell_type": "code",
   "execution_count": 4,
   "metadata": {},
   "outputs": [
    {
     "name": "stdout",
     "output_type": "stream",
     "text": [
      "A B C D\n",
      "A B C     D\n",
      "$hello\n"
     ]
    }
   ],
   "source": [
    "echo $hello\n",
    "echo \"$hello\"\n",
    "echo '$hello'"
   ]
  },
  {
   "cell_type": "markdown",
   "metadata": {},
   "source": [
    "例子"
   ]
  },
  {
   "cell_type": "code",
   "execution_count": 5,
   "metadata": {},
   "outputs": [
    {
     "name": "stdout",
     "output_type": "stream",
     "text": [
      "a b c\n",
      "=======\n",
      "a b c\n"
     ]
    }
   ],
   "source": [
    "num1=\"a b c\"\n",
    "num2=a\\ b\\ c   #\\转义空格\n",
    "\n",
    "echo $num1\n",
    "echo \"=======\"\n",
    "echo $num2"
   ]
  },
  {
   "cell_type": "code",
   "execution_count": 6,
   "metadata": {},
   "outputs": [
    {
     "name": "stdout",
     "output_type": "stream",
     "text": [
      "${uninitialized_variable}=1\n",
      "====================\n",
      "${uninitialized_variable}=\n"
     ]
    }
   ],
   "source": [
    "uninitialized_variable=1\n",
    "echo \\${uninitialized_variable}=${uninitialized_variable}\n",
    "echo \"====================\"\n",
    "unset uninitialized_variable                               #unset\n",
    "echo \\${uninitialized_variable}=${uninitialized_variable}"
   ]
  },
  {
   "cell_type": "markdown",
   "metadata": {},
   "source": [
    "# 变量赋值"
   ]
  },
  {
   "cell_type": "code",
   "execution_count": 7,
   "metadata": {},
   "outputs": [
    {
     "name": "stdout",
     "output_type": "stream",
     "text": [
      "5\n"
     ]
    }
   ],
   "source": [
    "a=5\n",
    "echo $a"
   ]
  },
  {
   "cell_type": "code",
   "execution_count": 8,
   "metadata": {},
   "outputs": [
    {
     "name": "stdout",
     "output_type": "stream",
     "text": [
      "21\n"
     ]
    }
   ],
   "source": [
    "let a=16+5\n",
    "echo $a"
   ]
  },
  {
   "cell_type": "code",
   "execution_count": 9,
   "metadata": {},
   "outputs": [
    {
     "name": "stdout",
     "output_type": "stream",
     "text": [
      "6\n",
      "7\n",
      "8\n"
     ]
    }
   ],
   "source": [
    "for a in 6 7 8\n",
    "do\n",
    "    echo -e $a\n",
    "done"
   ]
  },
  {
   "cell_type": "code",
   "execution_count": 10,
   "metadata": {},
   "outputs": [
    {
     "name": "stdout",
     "output_type": "stream",
     "text": [
      "root:x:0:0:root:/root:/usr/bin/zsh\n"
     ]
    }
   ],
   "source": [
    "read a < /etc/passwd    #重定向\n",
    "echo $a"
   ]
  },
  {
   "cell_type": "code",
   "execution_count": 11,
   "metadata": {},
   "outputs": [
    {
     "name": "stdout",
     "output_type": "stream",
     "text": [
      "a=23\n",
      "\n",
      "b=23\n"
     ]
    }
   ],
   "source": [
    "a=23\n",
    "echo a=$a\n",
    "echo \n",
    "b=$a\n",
    "echo b=$b"
   ]
  },
  {
   "cell_type": "code",
   "execution_count": 12,
   "metadata": {},
   "outputs": [
    {
     "name": "stdout",
     "output_type": "stream",
     "text": [
      "a=hello\n"
     ]
    }
   ],
   "source": [
    "a=`echo hello`   #a=`echo hello!`  !触发了历史机制在命令行下无法运行，但是在脚本中禁用了历史机制所以可以运行\n",
    "echo a=$a"
   ]
  },
  {
   "cell_type": "code",
   "execution_count": 13,
   "metadata": {},
   "outputs": [
    {
     "name": "stdout",
     "output_type": "stream",
     "text": [
      "total 100 -rwxr--r-- 1 zhaorenjie zhaorenjie 9288 Jul 26 18:05 attendance.py drwxr-xr-x 23 zhaorenjie zhaorenjie 4096 Nov 27 16:13 code drwxr-xr-x 3 zhaorenjie zhaorenjie 4096 Oct 11 16:35 Desktop drwxr-xr-x 2 zhaorenjie zhaorenjie 4096 Feb 8 2018 Documents drwxr-xr-x 8 zhaorenjie zhaorenjie 4096 Nov 26 17:50 Downloads -rw-r--r-- 1 zhaorenjie zhaorenjie 8980 Jan 26 2018 examples.desktop drwxrwxr-x 3 zhaorenjie zhaorenjie 4096 Dec 11 11:04 github drwxrwxr-x 7 zhaorenjie zhaorenjie 4096 Jan 3 16:53 jupyter drwxr-xr-x 2 zhaorenjie zhaorenjie 4096 Jan 26 2018 Music -rw-rw-r-- 1 zhaorenjie zhaorenjie 402 Mar 9 2018 neusoft.pub drwxr-xr-x 2 zhaorenjie zhaorenjie 4096 Jan 26 2018 Pictures drwxrwxr-x 3 zhaorenjie zhaorenjie 4096 Dec 11 14:00 project drwxr-xr-x 2 zhaorenjie zhaorenjie 4096 Jan 26 2018 Public drwxrwxr-x 3 zhaorenjie zhaorenjie 4096 Jan 29 2018 SDK drwxrwxr-x 3 zhaorenjie zhaorenjie 4096 Jan 31 2018 software drwxr-xr-x 7 zhaorenjie zhaorenjie 4096 Jan 3 13:50 study drwxr-xr-x 2 zhaorenjie zhaorenjie 4096 Jan 26 2018 Templates drwxrwxr-x 2 zhaorenjie zhaorenjie 4096 Dec 13 14:46 test drwxrwxr-x 2 zhaorenjie zhaorenjie 4096 Jan 29 2018 texlive drwxr-xr-x 2 zhaorenjie zhaorenjie 4096 Jan 26 2018 Videos drwxrwxr-x 3 zhaorenjie zhaorenjie 4096 Dec 29 13:32 zsh\n",
      "\n",
      "===================\n",
      "total 100\n",
      "-rwxr--r--  1 zhaorenjie zhaorenjie 9288 Jul 26 18:05 attendance.py\n",
      "drwxr-xr-x 23 zhaorenjie zhaorenjie 4096 Nov 27 16:13 code\n",
      "drwxr-xr-x  3 zhaorenjie zhaorenjie 4096 Oct 11 16:35 Desktop\n",
      "drwxr-xr-x  2 zhaorenjie zhaorenjie 4096 Feb  8  2018 Documents\n",
      "drwxr-xr-x  8 zhaorenjie zhaorenjie 4096 Nov 26 17:50 Downloads\n",
      "-rw-r--r--  1 zhaorenjie zhaorenjie 8980 Jan 26  2018 examples.desktop\n",
      "drwxrwxr-x  3 zhaorenjie zhaorenjie 4096 Dec 11 11:04 github\n",
      "drwxrwxr-x  7 zhaorenjie zhaorenjie 4096 Jan  3 16:53 jupyter\n",
      "drwxr-xr-x  2 zhaorenjie zhaorenjie 4096 Jan 26  2018 Music\n",
      "-rw-rw-r--  1 zhaorenjie zhaorenjie  402 Mar  9  2018 neusoft.pub\n",
      "drwxr-xr-x  2 zhaorenjie zhaorenjie 4096 Jan 26  2018 Pictures\n",
      "drwxrwxr-x  3 zhaorenjie zhaorenjie 4096 Dec 11 14:00 project\n",
      "drwxr-xr-x  2 zhaorenjie zhaorenjie 4096 Jan 26  2018 Public\n",
      "drwxrwxr-x  3 zhaorenjie zhaorenjie 4096 Jan 29  2018 SDK\n",
      "drwxrwxr-x  3 zhaorenjie zhaorenjie 4096 Jan 31  2018 software\n",
      "drwxr-xr-x  7 zhaorenjie zhaorenjie 4096 Jan  3 13:50 study\n",
      "drwxr-xr-x  2 zhaorenjie zhaorenjie 4096 Jan 26  2018 Templates\n",
      "drwxrwxr-x  2 zhaorenjie zhaorenjie 4096 Dec 13 14:46 test\n",
      "drwxrwxr-x  2 zhaorenjie zhaorenjie 4096 Jan 29  2018 texlive\n",
      "drwxr-xr-x  2 zhaorenjie zhaorenjie 4096 Jan 26  2018 Videos\n",
      "drwxrwxr-x  3 zhaorenjie zhaorenjie 4096 Dec 29 13:32 zsh\n"
     ]
    }
   ],
   "source": [
    "a=`ls -l ~`\n",
    "echo $a                              #不使用引号将去除多余的空格\n",
    "echo\n",
    "echo \"===================\"\n",
    "echo \"$a\""
   ]
  },
  {
   "cell_type": "markdown",
   "metadata": {},
   "source": [
    "使用$()方式进行命令替换，它同``是等价的"
   ]
  },
  {
   "cell_type": "code",
   "execution_count": 14,
   "metadata": {},
   "outputs": [
    {
     "name": "stdout",
     "output_type": "stream",
     "text": [
      "total 12 -rw-r--r-- 1 zhaorenjie zhaorenjie 10393 Jan 4 15:07 4-Introduction-to-Variables-and-Parameters.ipynb\n",
      "=====================\n",
      "total 12 -rw-r--r-- 1 zhaorenjie zhaorenjie 10393 Jan 4 15:07 4-Introduction-to-Variables-and-Parameters.ipynb\n"
     ]
    }
   ],
   "source": [
    "echo  `ls -l`\n",
    "\n",
    "echo \"=====================\"\n",
    "\n",
    "echo $(ls -l)"
   ]
  },
  {
   "cell_type": "markdown",
   "metadata": {},
   "source": [
    "# Bash变量是不区分类型的"
   ]
  },
  {
   "cell_type": "markdown",
   "metadata": {},
   "source": [
    "1. 整形"
   ]
  },
  {
   "cell_type": "code",
   "execution_count": 15,
   "metadata": {},
   "outputs": [
    {
     "name": "stdout",
     "output_type": "stream",
     "text": [
      "a=2335\n",
      "a=2336\n"
     ]
    }
   ],
   "source": [
    "a=2335\n",
    "\n",
    "echo a=$a\n",
    "\n",
    "let \"a += 1\"\n",
    "\n",
    "echo a=$a"
   ]
  },
  {
   "cell_type": "markdown",
   "metadata": {},
   "source": [
    "2. 字符"
   ]
  },
  {
   "cell_type": "code",
   "execution_count": 16,
   "metadata": {},
   "outputs": [
    {
     "name": "stdout",
     "output_type": "stream",
     "text": [
      "b=BB36\n",
      "b=1\n"
     ]
    }
   ],
   "source": [
    "b=${a/23/BB}      #23替换为BB\n",
    "\n",
    "echo b=$b\n",
    "\n",
    "let b+=1\n",
    "\n",
    "echo b=$b"
   ]
  },
  {
   "cell_type": "markdown",
   "metadata": {},
   "source": [
    "3. null变量"
   ]
  },
  {
   "cell_type": "code",
   "execution_count": 17,
   "metadata": {},
   "outputs": [
    {
     "name": "stdout",
     "output_type": "stream",
     "text": [
      "c=\n",
      "c=1\n"
     ]
    }
   ],
   "source": [
    "c=\"\"\n",
    "echo c=$c\n",
    "let c+=1\n",
    "echo c=$c"
   ]
  },
  {
   "cell_type": "markdown",
   "metadata": {},
   "source": [
    "4. 未声明的变量"
   ]
  },
  {
   "cell_type": "code",
   "execution_count": 18,
   "metadata": {},
   "outputs": [
    {
     "name": "stdout",
     "output_type": "stream",
     "text": [
      "d=1\n"
     ]
    }
   ],
   "source": [
    "let d+=1\n",
    "echo d=$d"
   ]
  },
  {
   "cell_type": "markdown",
   "metadata": {},
   "source": [
    "# 特殊的变量类型"
   ]
  },
  {
   "cell_type": "markdown",
   "metadata": {},
   "source": [
    "1. 局部变量，只在代码块和函数中可用"
   ]
  },
  {
   "cell_type": "markdown",
   "metadata": {},
   "source": [
    "2. 环境变量\n",
    "  - 更新或添加的新环境变量会立即生效，后继生成的子进程会继承这个新环境变量\n",
    "  - export的变量只能对他产生的子进程有影响，子进程export出的变量不会对它的父进程产生影响"
   ]
  },
  {
   "cell_type": "markdown",
   "metadata": {},
   "source": [
    "3. 位置参数\n",
    "   - \\$0 脚本文件自身名称\n",
    "   - \\$1 脚本对应的参数\n",
    "   - \\$9 之后的需要使用大括号括起来\n",
    "   - \\$* 所有位置参数\n",
    "   - \\$@ 所有位置参数\n",
    "   - \\$# 命令行参数个数\n",
    "   - shift命令会重新分配位置参数, 其实就是把所有的位置参数都向左移动一个位置."
   ]
  },
  {
   "cell_type": "markdown",
   "metadata": {},
   "source": [
    "获取最后参数的方法\n",
    "\n",
    "args=＄# \n",
    "\n",
    "lastarg=＄{!args}\n",
    "\n",
    "或者\n",
    "\n",
    "lastarg=＄{!#}"
   ]
  },
  {
   "cell_type": "markdown",
   "metadata": {},
   "source": [
    "判断一个位置参数是否传递下来\n",
    "\n",
    "if\\[ -z ＄1  ]\n",
    "\n",
    "then\n",
    "\n",
    "    exit ＄E_MISSING_POS_PARAM\n",
    "\n",
    "fi\n",
    "\n",
    "\n",
    "更好的办法是使用参数替换\n",
    "\n",
    "＄{1:-＄DefaultVal}"
   ]
  },
  {
   "cell_type": "code",
   "execution_count": null,
   "metadata": {},
   "outputs": [],
   "source": []
  },
  {
   "cell_type": "code",
   "execution_count": null,
   "metadata": {},
   "outputs": [],
   "source": []
  },
  {
   "cell_type": "code",
   "execution_count": null,
   "metadata": {},
   "outputs": [],
   "source": []
  }
 ],
 "metadata": {
  "kernelspec": {
   "display_name": "Bash",
   "language": "bash",
   "name": "bash"
  },
  "language_info": {
   "codemirror_mode": "shell",
   "file_extension": ".sh",
   "mimetype": "text/x-sh",
   "name": "bash"
  }
 },
 "nbformat": 4,
 "nbformat_minor": 2
}
