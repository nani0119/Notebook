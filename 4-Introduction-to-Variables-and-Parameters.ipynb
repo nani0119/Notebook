{
 "cells": [
  {
   "cell_type": "markdown",
   "metadata": {},
   "source": [
    "# 变量替换"
   ]
  },
  {
   "cell_type": "markdown",
   "metadata": {},
   "source": [
    "1. 变量使用等号进行赋值"
   ]
  },
  {
   "cell_type": "code",
   "execution_count": 1,
   "metadata": {},
   "outputs": [],
   "source": [
    "hello=\"A B C     D\""
   ]
  },
  {
   "cell_type": "markdown",
   "metadata": {},
   "source": [
    "2. 使用$符号对变量进行引用"
   ]
  },
  {
   "cell_type": "code",
   "execution_count": 2,
   "metadata": {},
   "outputs": [
    {
     "name": "stdout",
     "output_type": "stream",
     "text": [
      "A B C D\n"
     ]
    }
   ],
   "source": [
    "echo $hello"
   ]
  },
  {
   "cell_type": "markdown",
   "metadata": {},
   "source": [
    "VARIABLE =value      //解释器将VARIABLE解释为命令，=value做为参数\n",
    "\n",
    "VARIABLE= value      //解释权将value解释为命令，VARIABLE做为传入的环境变量"
   ]
  },
  {
   "cell_type": "markdown",
   "metadata": {},
   "source": [
    "3. ${variable}的简写"
   ]
  },
  {
   "cell_type": "code",
   "execution_count": 3,
   "metadata": {},
   "outputs": [
    {
     "name": "stdout",
     "output_type": "stream",
     "text": [
      "A B C D\n"
     ]
    }
   ],
   "source": [
    "echo ${hello}"
   ]
  },
  {
   "cell_type": "markdown",
   "metadata": {},
   "source": [
    "4. 使用引号的差异"
   ]
  },
  {
   "cell_type": "markdown",
   "metadata": {},
   "source": [
    " 引用一个变量将保留其中的空白,如果是变量替换就不会保留了."
   ]
  },
  {
   "cell_type": "code",
   "execution_count": 4,
   "metadata": {},
   "outputs": [
    {
     "name": "stdout",
     "output_type": "stream",
     "text": [
      "A B C D\n",
      "A B C     D\n",
      "$hello\n"
     ]
    }
   ],
   "source": [
    "echo $hello\n",
    "echo \"$hello\"\n",
    "echo '$hello'"
   ]
  },
  {
   "cell_type": "markdown",
   "metadata": {},
   "source": [
    "例子"
   ]
  },
  {
   "cell_type": "code",
   "execution_count": 5,
   "metadata": {},
   "outputs": [
    {
     "name": "stdout",
     "output_type": "stream",
     "text": [
      "a b c\n",
      "=======\n",
      "a b c\n"
     ]
    }
   ],
   "source": [
    "num1=\"a b c\"\n",
    "num2=a\\ b\\ c   #\\转义空格\n",
    "\n",
    "echo $num1\n",
    "echo \"=======\"\n",
    "echo $num2"
   ]
  },
  {
   "cell_type": "code",
   "execution_count": 6,
   "metadata": {},
   "outputs": [
    {
     "name": "stdout",
     "output_type": "stream",
     "text": [
      "${uninitialized_variable}=1\n",
      "====================\n",
      "${uninitialized_variable}=\n"
     ]
    }
   ],
   "source": [
    "uninitialized_variable=1\n",
    "echo \\${uninitialized_variable}=${uninitialized_variable}\n",
    "echo \"====================\"\n",
    "unset uninitialized_variable                               #unset\n",
    "echo \\${uninitialized_variable}=${uninitialized_variable}"
   ]
  },
  {
   "cell_type": "markdown",
   "metadata": {},
   "source": [
    "# 变量赋值"
   ]
  },
  {
   "cell_type": "code",
   "execution_count": 7,
   "metadata": {},
   "outputs": [
    {
     "name": "stdout",
     "output_type": "stream",
     "text": [
      "5\n"
     ]
    }
   ],
   "source": [
    "a=5\n",
    "echo $a"
   ]
  },
  {
   "cell_type": "code",
   "execution_count": 8,
   "metadata": {},
   "outputs": [
    {
     "name": "stdout",
     "output_type": "stream",
     "text": [
      "21\n"
     ]
    }
   ],
   "source": [
    "let a=16+5\n",
    "echo $a"
   ]
  },
  {
   "cell_type": "code",
   "execution_count": 9,
   "metadata": {},
   "outputs": [
    {
     "name": "stdout",
     "output_type": "stream",
     "text": [
      "6\n",
      "7\n",
      "8\n"
     ]
    }
   ],
   "source": [
    "for a in 6 7 8\n",
    "do\n",
    "    echo -e $a\n",
    "done"
   ]
  },
  {
   "cell_type": "code",
   "execution_count": 10,
   "metadata": {},
   "outputs": [
    {
     "name": "stdout",
     "output_type": "stream",
     "text": [
      "root:x:0:0:root:/root:/usr/bin/zsh\n"
     ]
    }
   ],
   "source": [
    "read a < /etc/passwd    #重定向\n",
    "echo $a"
   ]
  },
  {
   "cell_type": "code",
   "execution_count": 11,
   "metadata": {},
   "outputs": [
    {
     "name": "stdout",
     "output_type": "stream",
     "text": [
      "a=23\n",
      "\n",
      "b=23\n"
     ]
    }
   ],
   "source": [
    "a=23\n",
    "echo a=$a\n",
    "echo \n",
    "b=$a\n",
    "echo b=$b"
   ]
  },
  {
   "cell_type": "code",
   "execution_count": 12,
   "metadata": {},
   "outputs": [
    {
     "name": "stdout",
     "output_type": "stream",
     "text": [
      "a=hello\n"
     ]
    }
   ],
   "source": [
    "a=`echo hello`   #a=`echo hello!`  !触发了历史机制在命令行下无法运行，但是在脚本中禁用了历史机制所以可以运行\n",
    "echo a=$a"
   ]
  },
  {
   "cell_type": "code",
   "execution_count": 13,
   "metadata": {},
   "outputs": [
    {
     "name": "stdout",
     "output_type": "stream",
     "text": [
      "total 100 -rwxr--r-- 1 zhaorenjie zhaorenjie 9288 Jul 26 18:05 attendance.py drwxr-xr-x 23 zhaorenjie zhaorenjie 4096 Nov 27 16:13 code drwxr-xr-x 3 zhaorenjie zhaorenjie 4096 Oct 11 16:35 Desktop drwxr-xr-x 2 zhaorenjie zhaorenjie 4096 Feb 8 2018 Documents drwxr-xr-x 8 zhaorenjie zhaorenjie 4096 Nov 26 17:50 Downloads -rw-r--r-- 1 zhaorenjie zhaorenjie 8980 Jan 26 2018 examples.desktop drwxrwxr-x 3 zhaorenjie zhaorenjie 4096 Dec 11 11:04 github drwxrwxr-x 7 zhaorenjie zhaorenjie 4096 Jan 3 16:53 jupyter drwxr-xr-x 2 zhaorenjie zhaorenjie 4096 Jan 26 2018 Music -rw-rw-r-- 1 zhaorenjie zhaorenjie 402 Mar 9 2018 neusoft.pub drwxr-xr-x 2 zhaorenjie zhaorenjie 4096 Jan 26 2018 Pictures drwxrwxr-x 3 zhaorenjie zhaorenjie 4096 Dec 11 14:00 project drwxr-xr-x 2 zhaorenjie zhaorenjie 4096 Jan 26 2018 Public drwxrwxr-x 3 zhaorenjie zhaorenjie 4096 Jan 29 2018 SDK drwxrwxr-x 3 zhaorenjie zhaorenjie 4096 Jan 31 2018 software drwxr-xr-x 8 zhaorenjie zhaorenjie 4096 Jan 4 16:49 study drwxr-xr-x 2 zhaorenjie zhaorenjie 4096 Jan 26 2018 Templates drwxrwxr-x 2 zhaorenjie zhaorenjie 4096 Dec 13 14:46 test drwxrwxr-x 2 zhaorenjie zhaorenjie 4096 Jan 29 2018 texlive drwxr-xr-x 2 zhaorenjie zhaorenjie 4096 Jan 26 2018 Videos drwxrwxr-x 3 zhaorenjie zhaorenjie 4096 Dec 29 13:32 zsh\n",
      "\n",
      "===================\n",
      "total 100\n",
      "-rwxr--r--  1 zhaorenjie zhaorenjie 9288 Jul 26 18:05 attendance.py\n",
      "drwxr-xr-x 23 zhaorenjie zhaorenjie 4096 Nov 27 16:13 code\n",
      "drwxr-xr-x  3 zhaorenjie zhaorenjie 4096 Oct 11 16:35 Desktop\n",
      "drwxr-xr-x  2 zhaorenjie zhaorenjie 4096 Feb  8  2018 Documents\n",
      "drwxr-xr-x  8 zhaorenjie zhaorenjie 4096 Nov 26 17:50 Downloads\n",
      "-rw-r--r--  1 zhaorenjie zhaorenjie 8980 Jan 26  2018 examples.desktop\n",
      "drwxrwxr-x  3 zhaorenjie zhaorenjie 4096 Dec 11 11:04 github\n",
      "drwxrwxr-x  7 zhaorenjie zhaorenjie 4096 Jan  3 16:53 jupyter\n",
      "drwxr-xr-x  2 zhaorenjie zhaorenjie 4096 Jan 26  2018 Music\n",
      "-rw-rw-r--  1 zhaorenjie zhaorenjie  402 Mar  9  2018 neusoft.pub\n",
      "drwxr-xr-x  2 zhaorenjie zhaorenjie 4096 Jan 26  2018 Pictures\n",
      "drwxrwxr-x  3 zhaorenjie zhaorenjie 4096 Dec 11 14:00 project\n",
      "drwxr-xr-x  2 zhaorenjie zhaorenjie 4096 Jan 26  2018 Public\n",
      "drwxrwxr-x  3 zhaorenjie zhaorenjie 4096 Jan 29  2018 SDK\n",
      "drwxrwxr-x  3 zhaorenjie zhaorenjie 4096 Jan 31  2018 software\n",
      "drwxr-xr-x  8 zhaorenjie zhaorenjie 4096 Jan  4 16:49 study\n",
      "drwxr-xr-x  2 zhaorenjie zhaorenjie 4096 Jan 26  2018 Templates\n",
      "drwxrwxr-x  2 zhaorenjie zhaorenjie 4096 Dec 13 14:46 test\n",
      "drwxrwxr-x  2 zhaorenjie zhaorenjie 4096 Jan 29  2018 texlive\n",
      "drwxr-xr-x  2 zhaorenjie zhaorenjie 4096 Jan 26  2018 Videos\n",
      "drwxrwxr-x  3 zhaorenjie zhaorenjie 4096 Dec 29 13:32 zsh\n"
     ]
    }
   ],
   "source": [
    "a=`ls -l ~`\n",
    "echo $a                              #不使用引号将去除多余的空格\n",
    "echo\n",
    "echo \"===================\"\n",
    "echo \"$a\""
   ]
  },
  {
   "cell_type": "markdown",
   "metadata": {},
   "source": [
    "使用$()方式进行命令替换，它同``是等价的"
   ]
  },
  {
   "cell_type": "code",
   "execution_count": 14,
   "metadata": {},
   "outputs": [
    {
     "name": "stdout",
     "output_type": "stream",
     "text": [
      "total 32 -rw-r--r-- 1 zhaorenjie zhaorenjie 32349 Jan 8 17:42 4-Introduction-to-Variables-and-Parameters.ipynb\n",
      "=====================\n",
      "total 32 -rw-r--r-- 1 zhaorenjie zhaorenjie 32349 Jan 8 17:42 4-Introduction-to-Variables-and-Parameters.ipynb\n"
     ]
    }
   ],
   "source": [
    "echo  `ls -l`\n",
    "\n",
    "echo \"=====================\"\n",
    "\n",
    "echo $(ls -l)"
   ]
  },
  {
   "cell_type": "markdown",
   "metadata": {},
   "source": [
    "# Bash变量是不区分类型的"
   ]
  },
  {
   "cell_type": "markdown",
   "metadata": {},
   "source": [
    "1. 整形"
   ]
  },
  {
   "cell_type": "code",
   "execution_count": 15,
   "metadata": {},
   "outputs": [
    {
     "name": "stdout",
     "output_type": "stream",
     "text": [
      "a=2335\n",
      "a=2336\n"
     ]
    }
   ],
   "source": [
    "a=2335\n",
    "\n",
    "echo a=$a\n",
    "\n",
    "let \"a += 1\"\n",
    "\n",
    "echo a=$a"
   ]
  },
  {
   "cell_type": "markdown",
   "metadata": {},
   "source": [
    "2. 字符"
   ]
  },
  {
   "cell_type": "code",
   "execution_count": 16,
   "metadata": {},
   "outputs": [
    {
     "name": "stdout",
     "output_type": "stream",
     "text": [
      "b=BB36\n",
      "b=1\n"
     ]
    }
   ],
   "source": [
    "b=${a/23/BB}      #23替换为BB\n",
    "\n",
    "echo b=$b\n",
    "\n",
    "let b+=1\n",
    "\n",
    "echo b=$b"
   ]
  },
  {
   "cell_type": "markdown",
   "metadata": {},
   "source": [
    "3. null变量"
   ]
  },
  {
   "cell_type": "code",
   "execution_count": 17,
   "metadata": {},
   "outputs": [
    {
     "name": "stdout",
     "output_type": "stream",
     "text": [
      "c=\n",
      "c=1\n"
     ]
    }
   ],
   "source": [
    "c=\"\"\n",
    "echo c=$c\n",
    "let c+=1\n",
    "echo c=$c"
   ]
  },
  {
   "cell_type": "markdown",
   "metadata": {},
   "source": [
    "4. 未声明的变量"
   ]
  },
  {
   "cell_type": "code",
   "execution_count": 18,
   "metadata": {},
   "outputs": [
    {
     "name": "stdout",
     "output_type": "stream",
     "text": [
      "d=1\n"
     ]
    }
   ],
   "source": [
    "let d+=1\n",
    "echo d=$d"
   ]
  },
  {
   "cell_type": "markdown",
   "metadata": {},
   "source": [
    "# 特殊的变量类型"
   ]
  },
  {
   "cell_type": "markdown",
   "metadata": {},
   "source": [
    "1. 局部变量，只在代码块和函数中可用"
   ]
  },
  {
   "cell_type": "markdown",
   "metadata": {},
   "source": [
    "2. 环境变量\n",
    "  - 更新或添加的新环境变量会立即生效，后继生成的子进程会继承这个新环境变量\n",
    "  - export的变量只能对他产生的子进程有影响，子进程export出的变量不会对它的父进程产生影响"
   ]
  },
  {
   "cell_type": "markdown",
   "metadata": {},
   "source": [
    "3. 位置参数\n",
    "   - \\$0 脚本文件自身名称\n",
    "   - \\$1 脚本对应的参数\n",
    "   - \\$9 之后的需要使用大括号括起来\n",
    "   - \\$* 所有位置参数 使用双引号包围时作为一个整体\n",
    "   - \\$@ 所有位置参数\n",
    "   - \\$# 命令行参数个数\n",
    "   - shift命令会重新分配位置参数, 其实就是把所有的位置参数都向左移动一个位置."
   ]
  },
  {
   "cell_type": "markdown",
   "metadata": {},
   "source": [
    "获取最后参数的方法\n",
    "\n",
    "args=＄# \n",
    "\n",
    "lastarg=＄{!args}\n",
    "\n",
    "或者\n",
    "\n",
    "lastarg=＄{!#}"
   ]
  },
  {
   "cell_type": "markdown",
   "metadata": {},
   "source": [
    "判断一个位置参数是否传递下来\n",
    "\n",
    "if\\[ -z ＄1  ]\n",
    "\n",
    "then\n",
    "\n",
    "    exit ＄E_MISSING_POS_PARAM\n",
    "\n",
    "fi\n",
    "\n",
    "\n",
    "更好的办法是使用参数替换\n",
    "\n",
    "＄{1:-＄DefaultVal}"
   ]
  },
  {
   "cell_type": "markdown",
   "metadata": {},
   "source": [
    "# 引用"
   ]
  },
  {
   "cell_type": "markdown",
   "metadata": {},
   "source": [
    "# 退出和退出状态码"
   ]
  },
  {
   "cell_type": "markdown",
   "metadata": {},
   "source": [
    "1. exit用来结束一个脚本，返回给父进程退出码，0代表成功。"
   ]
  },
  {
   "cell_type": "markdown",
   "metadata": {},
   "source": [
    "2. 当exit不带命令结束时，退出码有脚本中最后执行的命令来决定，等同于exit $?"
   ]
  },
  {
   "cell_type": "markdown",
   "metadata": {},
   "source": [
    "# 条件判断"
   ]
  },
  {
   "cell_type": "markdown",
   "metadata": {},
   "source": [
    "## 条件测试结构"
   ]
  },
  {
   "cell_type": "markdown",
   "metadata": {},
   "source": [
    "1. if/then 结构通过判断命令列表的退出码是否为0（成功），决定执行的分支"
   ]
  },
  {
   "cell_type": "markdown",
   "metadata": {},
   "source": [
    "2. \\[是shell的内建命令,与test等价,所以与测试条件间要有空格, \\]符号表示条件结束"
   ]
  },
  {
   "cell_type": "markdown",
   "metadata": {},
   "source": [
    "3. test与 “\\[”等价"
   ]
  },
  {
   "cell_type": "markdown",
   "metadata": {},
   "source": [
    "```\n",
    "if test -z \"$1\"\n",
    "then\n",
    "    echo  \"No command-line arguments.\"\n",
    "else\n",
    "    echo \"First command-line argument is $1.\"\n",
    "fi\n",
    "```"
   ]
  },
  {
   "cell_type": "markdown",
   "metadata": {},
   "source": [
    " 4. \\[\\[...\\]\\] 是bash关键字，并不是一个命令，Bash把\\[\\[ $a -lt $b \\]\\]看作一个单独的元素, 并且返回一个退出状态码.与\\[相比能够防止脚本中的许多逻辑错误，比如, &&, ||, <, 和> 操作符能够正常存在于\\[\\[ \\]\\]条件判断结构中, 但是如果出现在\\[ \\]结构中的话, 会报错"
   ]
  },
  {
   "cell_type": "markdown",
   "metadata": {},
   "source": [
    "```\n",
    "file=/etc/passwd\n",
    "if [[ -e $file ]]\n",
    "then\n",
    "    echo \"Password file exists.\"\n",
    "fi\n",
    "```"
   ]
  },
  {
   "cell_type": "markdown",
   "metadata": {},
   "source": [
    "5. (())，与C语言的逻辑是相同的，0 失败，非0成功"
   ]
  },
  {
   "cell_type": "markdown",
   "metadata": {},
   "source": [
    "```\n",
    "(( 0 ))\n",
    "echo \"Exit status of \\\"(( 0 ))\\\" is $?.\"         # 1\n",
    " \n",
    "(( 1 ))\n",
    "echo \"Exit status of \\\"(( 1 ))\\\" is $?.\"         # 0\n",
    "```"
   ]
  },
  {
   "cell_type": "markdown",
   "metadata": {},
   "source": [
    "6. if能够测试任何命令"
   ]
  },
  {
   "cell_type": "markdown",
   "metadata": {},
   "source": [
    "```\n",
    "dir=/home/bozo\n",
    "if cd \"$dir\" 2>/dev/null; then   # \"2>/dev/null\" 会隐藏错误信息.\n",
    "then\n",
    "    echo \"Now in $dir.\"\n",
    "fi\n",
    "#============================================\n",
    "\n",
    "word=Linux\n",
    "letter_sequence=inu\n",
    "if echo \"$word\" | grep -q \"$letter_sequence\"\n",
    "# \"-q\" 选项是用来禁止输出的.\n",
    "then\n",
    "    echo \"$letter_sequence found in $word\"\n",
    "else\n",
    "    echo \"$letter_sequence not found in $word\"\n",
    "fi\n",
    "```"
   ]
  },
  {
   "cell_type": "markdown",
   "metadata": {},
   "source": [
    "7. 在中括号中的条件判断也不一定非得要if不可, 也可以使用列表结构."
   ]
  },
  {
   "cell_type": "markdown",
   "metadata": {},
   "source": [
    "```\n",
    "var1=20\n",
    "var2=22\n",
    "[ \"$var1\" -ne \"$var2\" ] && echo \"$var1 is not equal to $var2\"\n",
    "\n",
    "\n",
    "home=/home/bozo\n",
    "[ -d \"$home\" ] || echo \"$home directory does not exist.\"\n",
    "```"
   ]
  },
  {
   "cell_type": "markdown",
   "metadata": {},
   "source": [
    "8. if/then 格式"
   ]
  },
  {
   "cell_type": "markdown",
   "metadata": {},
   "source": [
    "```\n",
    "if [ condition1 ]\n",
    "then\n",
    "    cmd1\n",
    "    cmd2\n",
    "elif [ condition2 ]\n",
    "then\n",
    "    cmd3\n",
    "    cmd4\n",
    "else\n",
    "    default-cmd\n",
    "fi\n",
    "```"
   ]
  },
  {
   "cell_type": "markdown",
   "metadata": {},
   "source": [
    "## 文件测试操作符"
   ]
  },
  {
   "cell_type": "markdown",
   "metadata": {},
   "source": [
    "| 测试操作符 | 作用                                 |   \n",
    "|:------------|:--------------------------------------|\n",
    "| -e         | 文件存在                             |   \n",
    "| -f         | 一般文件                             |   \n",
    "| -d         | 目录                                 |   \n",
    "| -b         | block设备                            |   \n",
    "| -c         | 字符设备                             |   \n",
    "| -p         | 管道                                 |   \n",
    "| -h/-L      | 符号链接                             |   \n",
    "| -S         | socket文件                           |   \n",
    "| -s         | 文件大小不为0                        |   \n",
    "| -t         | 文件描述符被关联到终端上,\\[ -t 0 \\]) |\n",
    "| -r         | 可读权限                             |   \n",
    "| -w         | 可写权限                             |   \n",
    "| -x         | 可执行权限                           |   \n",
    "| -g         | sgid标志被设置到了目录或用户组       |   \n",
    "| -u         | suid被设置                           |   \n",
    "| -k         | 设置粘贴位                           |   \n",
    "| -O         | 是否是文件所有者                     |   \n",
    "| -G         | group-id是否与你相同                 |   \n",
    "| -N         | 是否被修改过                         |   \n",
    "| f1 -nt f2  | f1比f2新                             |   \n",
    "| f1 -ot f2  | f1比f2旧                             |   \n",
    "| f1 -ef f2  | 相同的文件硬链接                     |   \n",
    "| ！         | “非”，翻转测试结果                   |  "
   ]
  },
  {
   "cell_type": "markdown",
   "metadata": {},
   "source": [
    "## 整数比较"
   ]
  },
  {
   "cell_type": "markdown",
   "metadata": {},
   "source": [
    "| 整数比较     | 作用     |\n",
    "|--------------|----------|\n",
    "| -eq          | 等于     |\n",
    "| -ne          | 不等于   |\n",
    "| -gt          | 大于     |\n",
    "| -ge          | 大于等于 |\n",
    "| -lt          | 小于     |\n",
    "| -le          | 小于等于 |\n",
    "| (( a < b ))  | 小于     |\n",
    "| (( a <= b )) | 小于等于 |\n",
    "| (( a > b ))  | 大于     |\n",
    "| (( a >= b )) | 大于等于 |\n"
   ]
  },
  {
   "cell_type": "markdown",
   "metadata": {},
   "source": [
    "## 字符串比较"
   ]
  },
  {
   "cell_type": "markdown",
   "metadata": {},
   "source": [
    "|字符串比较|作用|\n",
    "|---------|--------|\n",
    "|=或者==   |字符串相等|\n",
    "|!=       |字符串不相等|\n",
    "|<        |小于，单中括号需要转义，if \\[\\[ \"$a\" < \"$b\" \\]\\] 或者 if \\[ $a  \\< $b ]|\n",
    "|>        |大于，单中括号需要转义，if \\[\\[ \"$a\" > \"$b\" \\]\\] 或者 if \\[ $a \\> $b ]|\n",
    "|-z       |字符串长度为0|\n",
    "|-n       |字符串为 “null”|"
   ]
  },
  {
   "cell_type": "markdown",
   "metadata": {},
   "source": [
    "## 逻辑操作"
   ]
  },
  {
   "cell_type": "markdown",
   "metadata": {},
   "source": [
    "|逻辑操作|作用|\n",
    "|-----|-----|\n",
    "|-a   |与   |\n",
    "|-o   |或   |"
   ]
  },
  {
   "cell_type": "code",
   "execution_count": 19,
   "metadata": {},
   "outputs": [
    {
     "name": "stdout",
     "output_type": "stream",
     "text": [
      "4 is not equal to 5\n",
      "(arithmetic comparison)\n",
      "\n",
      "4 is not equal to 5\n",
      "(string comparison)\n"
     ]
    }
   ],
   "source": [
    "\n",
    "\n",
    "a=4\n",
    "b=5\n",
    "\n",
    "if [ $a -ne $b ]\n",
    "then\n",
    "  echo  \"$a is not equal to $b\"\n",
    "  echo  \"(arithmetic comparison)\"\n",
    "fi\n",
    "\n",
    "echo\n",
    "\n",
    "if [ \"$a\" != \"$b\" ]\n",
    "then\n",
    "  echo  \"$a is not equal to $b\"\n",
    "  echo \"(string comparison)\"\n",
    "fi"
   ]
  },
  {
   "cell_type": "markdown",
   "metadata": {},
   "source": [
    "检测字符串是否为null\n",
    "\n",
    "\\[ ＄string1 \\]        ＄string是null的，未加双引号情况下 上面的命令等价于  \\[  \\]  即 \\[ 命令带一个参数\n",
    "\n",
    "\\[ ＄string1\" \\]       ＄string是null的，加双引号情况下 上面的命令等价于  \\[ \"\" \\]  即 \"\\[\"\"\\] 命令带两个参数,空格"
   ]
  },
  {
   "cell_type": "code",
   "execution_count": 20,
   "metadata": {},
   "outputs": [
    {
     "name": "stdout",
     "output_type": "stream",
     "text": [
      "String \"str\" is not null.\n"
     ]
    }
   ],
   "source": [
    "if [ -n $str ]    # $string1 没有被声明和初始化. [ -n ] return 0\n",
    "then\n",
    "    echo \"String \\\"str\\\" is not null.\"\n",
    "else\n",
    "    echo \"String \\\"str\\\" is null.\"\n",
    "fi"
   ]
  },
  {
   "cell_type": "code",
   "execution_count": 21,
   "metadata": {},
   "outputs": [
    {
     "name": "stdout",
     "output_type": "stream",
     "text": [
      "String \"str\" is null.\n"
     ]
    }
   ],
   "source": [
    "if [ -n \"$str\" ]    # $string1 没有被声明和初始化. [ -n \"\" ] return 1\n",
    "then\n",
    "    echo \"String \\\"str\\\" is not null.\"\n",
    "else\n",
    "    echo \"String \\\"str\\\" is null.\"\n",
    "fi"
   ]
  },
  {
   "cell_type": "code",
   "execution_count": 22,
   "metadata": {},
   "outputs": [
    {
     "name": "stdout",
     "output_type": "stream",
     "text": [
      "String \"str\" is null.\n"
     ]
    }
   ],
   "source": [
    "if [ $str ]    # $string1 没有被声明和初始化. [ ] return 0\n",
    "then\n",
    "    echo \"String \\\"str\\\" is not null.\"\n",
    "else\n",
    "    echo \"String \\\"str\\\" is null.\"\n",
    "fi"
   ]
  },
  {
   "cell_type": "code",
   "execution_count": 23,
   "metadata": {},
   "outputs": [
    {
     "name": "stdout",
     "output_type": "stream",
     "text": [
      "String \"str\" is null.\n"
     ]
    }
   ],
   "source": [
    "if [ \"$str\" ]    # $string1 没有被声明和初始化. [ -n ] return 0\n",
    "then\n",
    "    echo \"String \\\"str\\\" is not null.\"\n",
    "else\n",
    "    echo \"String \\\"str\\\" is null.\"\n",
    "fi"
   ]
  },
  {
   "cell_type": "code",
   "execution_count": 24,
   "metadata": {},
   "outputs": [
    {
     "name": "stdout",
     "output_type": "stream",
     "text": [
      "String \"string1\" is null.\n"
     ]
    }
   ],
   "source": [
    "string1=\"a = b\"\n",
    "\n",
    "if [ $string1 ]     # if [ a = b]\n",
    "then\n",
    "    echo \"String \\\"string1\\\" is not null.\"\n",
    "else\n",
    "    echo \"String \\\"string1\\\" is null.\"\n",
    "fi"
   ]
  },
  {
   "cell_type": "code",
   "execution_count": 25,
   "metadata": {},
   "outputs": [
    {
     "name": "stdout",
     "output_type": "stream",
     "text": [
      "String \"string1\" is not null.\n"
     ]
    }
   ],
   "source": [
    "string1=\"a = b\"\n",
    "\n",
    "if [ \"$string1\" ]     # if [ “a = b”]\n",
    "then\n",
    "    echo \"String \\\"string1\\\" is not null.\"\n",
    "else\n",
    "    echo \"String \\\"string1\\\" is null.\"\n",
    "fi"
   ]
  },
  {
   "cell_type": "markdown",
   "metadata": {},
   "source": [
    "#  操作符"
   ]
  },
  {
   "cell_type": "code",
   "execution_count": 26,
   "metadata": {},
   "outputs": [
    {
     "name": "stdout",
     "output_type": "stream",
     "text": [
      "1\n",
      "2\n",
      "3\n",
      "4\n",
      "5\n",
      "6\n",
      "7\n",
      "8\n",
      "9\n",
      "10\n",
      "11\n"
     ]
    }
   ],
   "source": [
    "n=1\n",
    "echo -n $n\n",
    "echo\n",
    "\n",
    "let \"n = $n + 1\"\n",
    "echo -n $n\n",
    "echo\n",
    "\n",
    ": $((n = $n + 1))  # \":\" 是必需的, 因为如果没有\":\"的话, Bash将会尝试把\"$((n = $n + 1))\"解释为一个命令.\n",
    "echo -n $n\n",
    "echo\n",
    "\n",
    "((n = n + 1))\n",
    "echo -n $n\n",
    "echo\n",
    "\n",
    "n=$(($n+1))\n",
    "echo -n $n\n",
    "echo\n",
    "\n",
    ": $[ n = $n +1 ]\n",
    "echo -n $n\n",
    "echo\n",
    "\n",
    "n=$[ $n + 1 ]\n",
    "echo -n $n\n",
    "echo\n",
    "\n",
    "let \"n++\"\n",
    "echo -n $n\n",
    "echo\n",
    "\n",
    "((n++))\n",
    "echo -n $n\n",
    "echo\n",
    "\n",
    ": $(( ++n )) \n",
    "echo -n $n\n",
    "echo\n",
    "\n",
    ": $[ n++ ]\n",
    "echo -n $n\n",
    "echo"
   ]
  },
  {
   "cell_type": "markdown",
   "metadata": {},
   "source": [
    "# 数字常量"
   ]
  },
  {
   "cell_type": "markdown",
   "metadata": {},
   "source": [
    "shell中模式把数字做为10进制处理，如果以0开头则为八进制, 0x开头则为16进制，如果数字中间嵌入了#的话, 那么就被认为是BASE#NUMBER形式的标记法(有范围和符号限制)"
   ]
  },
  {
   "cell_type": "code",
   "execution_count": 27,
   "metadata": {},
   "outputs": [
    {
     "name": "stdout",
     "output_type": "stream",
     "text": [
      "octal number = 26\n",
      "\n",
      "hexadecimal number = 50\n",
      "\n",
      "binary number = 31181\n",
      "\n",
      "base-32 number = 231\n",
      "\n",
      "base-64 number = 4031\n"
     ]
    }
   ],
   "source": [
    "# 8进制: 以'0'(零)开头\n",
    "\n",
    "let oct=032\n",
    "echo \"octal number = $oct\"  \n",
    "echo \n",
    "\n",
    "let \"hex=0x32\"\n",
    "echo \"hexadecimal number = $hex\"\n",
    "echo \n",
    "\n",
    "# 其他进制: BASE#NUMBER\n",
    "# BASE的范围在2到64之间.\n",
    "let \"bin = 2#111100111001101\"\n",
    "echo \"binary number = $bin\"\n",
    "echo\n",
    "\n",
    "let \"b32 = 32#77\"\n",
    "echo \"base-32 number = $b32\" \n",
    "echo \n",
    "\n",
    "\n",
    "let \"b64 = 64#@_\"\n",
    "echo \"base-64 number = $b64\" "
   ]
  },
  {
   "cell_type": "markdown",
   "metadata": {},
   "source": [
    "# 变量重游"
   ]
  },
  {
   "cell_type": "markdown",
   "metadata": {},
   "source": [
    "1. Bash的二进制程序文件的路径"
   ]
  },
  {
   "cell_type": "code",
   "execution_count": 28,
   "metadata": {},
   "outputs": [
    {
     "name": "stdout",
     "output_type": "stream",
     "text": [
      "/bin/bash\n"
     ]
    }
   ],
   "source": [
    "echo $BASH"
   ]
  },
  {
   "cell_type": "markdown",
   "metadata": {},
   "source": [
    "2. BASH_ENV 指向一个Bash的启动文件, 当一个脚本被调用的时候, 这个启动文件将会被读取"
   ]
  },
  {
   "cell_type": "code",
   "execution_count": 29,
   "metadata": {},
   "outputs": [
    {
     "name": "stdout",
     "output_type": "stream",
     "text": [
      "\n"
     ]
    }
   ],
   "source": [
    "echo $BASH_ENV"
   ]
  },
  {
   "cell_type": "markdown",
   "metadata": {},
   "source": [
    "\n",
    "\n",
    "export BASH_ENV=~/xxxxxx\n",
    "bash sh-script\n"
   ]
  },
  {
   "cell_type": "markdown",
   "metadata": {},
   "source": [
    "3. BASH_SUBSHELL 这个变量用来提示子shell的层次"
   ]
  },
  {
   "cell_type": "code",
   "execution_count": 30,
   "metadata": {},
   "outputs": [
    {
     "name": "stdout",
     "output_type": "stream",
     "text": [
      "0\n",
      "1\n",
      "2\n"
     ]
    }
   ],
   "source": [
    "echo $BASH_SUBSHELL\n",
    "\n",
    "(echo $BASH_SUBSHELL)\n",
    "\n",
    "( ( echo $BASH_SUBSHELL ) )"
   ]
  },
  {
   "cell_type": "markdown",
   "metadata": {},
   "source": [
    "BASH_SUBSHELL 是 subshell 嵌套层次的累加器，那么按理说，所有的 subshell 里这个变量都应该加 1。那 Bash 的哪些语法是在 subshell 里\n",
    "\n",
    "执行的呢？下面列举一下：\n",
    "\n",
    "小括号分组 (...)\n",
    "\n",
    "命令替换 `...` 和 $(...)\n",
    "\n",
    "进程替换 <() 和 >()\n",
    "\n",
    "管道 ... | ...\n",
    "\n",
    "后台命令 ... &\n",
    "\n",
    "那么当 BASH_SUBSHELL 出现在这些语法中时，它的值就应该加 1"
   ]
  },
  {
   "cell_type": "markdown",
   "metadata": {},
   "source": [
    "4. BASH_VERSION  版本号"
   ]
  },
  {
   "cell_type": "code",
   "execution_count": 31,
   "metadata": {},
   "outputs": [
    {
     "name": "stdout",
     "output_type": "stream",
     "text": [
      "4.4.19(1)-release\n"
     ]
    }
   ],
   "source": [
    "echo $BASH_VERSION"
   ]
  },
  {
   "cell_type": "markdown",
   "metadata": {},
   "source": [
    "5. BASH_VERSINFO[n] 这是一个含有6个元素的数组, 它包含了所安装的Bash的版本信息"
   ]
  },
  {
   "cell_type": "code",
   "execution_count": 32,
   "metadata": {},
   "outputs": [
    {
     "name": "stdout",
     "output_type": "stream",
     "text": [
      "BASH_VERSINFO[0] = 4\n",
      "BASH_VERSINFO[1] = 4\n",
      "BASH_VERSINFO[2] = 19\n",
      "BASH_VERSINFO[3] = 1\n",
      "BASH_VERSINFO[4] = release\n",
      "BASH_VERSINFO[5] = x86_64-pc-linux-gnu\n"
     ]
    }
   ],
   "source": [
    "for n in 0 1 2 3 4 5\n",
    "do\n",
    "    echo \"BASH_VERSINFO[$n] = ${BASH_VERSINFO[$n]}\"\n",
    "done"
   ]
  },
  {
   "cell_type": "markdown",
   "metadata": {},
   "source": [
    "5. DIRSTACK 目录栈最顶端的值"
   ]
  },
  {
   "cell_type": "code",
   "execution_count": 33,
   "metadata": {},
   "outputs": [
    {
     "name": "stdout",
     "output_type": "stream",
     "text": [
      "=====================\n",
      "/home\n",
      "=====================\n",
      "/home ~/jupyter/shell\n",
      "=====================\n"
     ]
    }
   ],
   "source": [
    "pushd /home/  > /dev/null   #进入/home  /dev/null不回显\n",
    "echo =====================\n",
    "echo $DIRSTACK   #显示栈顶\n",
    "echo =====================\n",
    "dirs             #显示所有栈目录\n",
    "echo =====================\n",
    "popd         > /dev/null     #退出/home,退出栈顶\n"
   ]
  },
  {
   "cell_type": "markdown",
   "metadata": {},
   "source": [
    "6. EDITER   脚本所调用的默认编辑器"
   ]
  },
  {
   "cell_type": "code",
   "execution_count": 34,
   "metadata": {},
   "outputs": [
    {
     "name": "stdout",
     "output_type": "stream",
     "text": [
      "vim\n"
     ]
    }
   ],
   "source": [
    "echo $EDITOR"
   ]
  },
  {
   "cell_type": "markdown",
   "metadata": {},
   "source": [
    "7.  EUID 有效的用户ID, \tEUID并不一定与$UID相同. 不管当前用户被假定成什么用户, 这个数都用来表示当前用户的标识号"
   ]
  },
  {
   "cell_type": "code",
   "execution_count": 35,
   "metadata": {},
   "outputs": [
    {
     "name": "stdout",
     "output_type": "stream",
     "text": [
      "1001\n",
      "1001\n"
     ]
    }
   ],
   "source": [
    "echo $EUID\n",
    "echo $UID\n",
    "#sudo echo $UID"
   ]
  },
  {
   "cell_type": "markdown",
   "metadata": {},
   "source": [
    "8. FUNCNAME 当前函数的名字"
   ]
  },
  {
   "cell_type": "code",
   "execution_count": 38,
   "metadata": {},
   "outputs": [
    {
     "name": "stdout",
     "output_type": "stream",
     "text": [
      "my func name is my_func_name\n",
      "FUNCNAME = \n"
     ]
    }
   ],
   "source": [
    "my_func_name()\n",
    "{\n",
    "    echo \"my func name is $FUNCNAME\"\n",
    "}\n",
    "\n",
    "my_func_name\n",
    "\n",
    "echo \"FUNCNAME = $FUNCNAME\" "
   ]
  },
  {
   "cell_type": "markdown",
   "metadata": {},
   "source": [
    "9. GLOBIGNORE  一个文件名的模式匹配列表, 如果在通配(globbing)中匹配到的文件包含有这个列表中的某个文件, 那么这个文件将被从匹配到的结果中去掉."
   ]
  },
  {
   "cell_type": "markdown",
   "metadata": {},
   "source": [
    "10. GROUPS  当前用户所属的组,这是一个当前用户的组id列表(数组), 与记录在/etc/passwd文件中的内容一样."
   ]
  },
  {
   "cell_type": "markdown",
   "metadata": {},
   "source": [
    "root# echo $GROUPS\n",
    "0\n",
    "\n",
    "\n",
    "root# echo ${GROUPS[1]}\n",
    "1\n",
    "\n",
    "\n",
    "root# echo ${GROUPS[5]}\n",
    "6"
   ]
  },
  {
   "cell_type": "markdown",
   "metadata": {},
   "source": [
    "11. HOME  用户家目录"
   ]
  },
  {
   "cell_type": "code",
   "execution_count": 44,
   "metadata": {},
   "outputs": [
    {
     "name": "stdout",
     "output_type": "stream",
     "text": [
      "/home/zhaorenjie\n"
     ]
    }
   ],
   "source": [
    "echo $HOME"
   ]
  },
  {
   "cell_type": "markdown",
   "metadata": {},
   "source": [
    "12.  HOSTNAME 系统名称"
   ]
  },
  {
   "cell_type": "code",
   "execution_count": 46,
   "metadata": {},
   "outputs": [
    {
     "name": "stdout",
     "output_type": "stream",
     "text": [
      "ubuntu2\n"
     ]
    }
   ],
   "source": [
    "echo $HOSTNAME"
   ]
  },
  {
   "cell_type": "markdown",
   "metadata": {},
   "source": [
    "13. HOSTTYPE 主机类型"
   ]
  },
  {
   "cell_type": "code",
   "execution_count": 48,
   "metadata": {},
   "outputs": [
    {
     "name": "stdout",
     "output_type": "stream",
     "text": [
      "x86_64\n"
     ]
    }
   ],
   "source": [
    "echo $HOSTTYPE"
   ]
  },
  {
   "cell_type": "markdown",
   "metadata": {},
   "source": [
    "14. IFS  内部分割符，默认为空格"
   ]
  },
  {
   "cell_type": "code",
   "execution_count": 49,
   "metadata": {},
   "outputs": [
    {
     "name": "stdout",
     "output_type": "stream",
     "text": [
      "\n"
     ]
    }
   ],
   "source": [
    "echo $IFS"
   ]
  },
  {
   "cell_type": "code",
   "execution_count": 51,
   "metadata": {},
   "outputs": [
    {
     "name": "stdout",
     "output_type": "stream",
     "text": [
      "w:x:y:z\n"
     ]
    }
   ],
   "source": [
    "bash -c 'set w x y z; IFS=\":\"; echo \"$*\"'   #从字符串中读取命令, 并分配参数给位置参数"
   ]
  },
  {
   "cell_type": "markdown",
   "metadata": {},
   "source": [
    "IFS=\":\"\n",
    "\n",
    "echo $IFS    #结果为空, ?, :被解析为分割符了，分割符不会被显示\n",
    "\n",
    "echo \"$IFS\"  #结果为："
   ]
  },
  {
   "cell_type": "code",
   "execution_count": 62,
   "metadata": {},
   "outputs": [
    {
     "name": "stdout",
     "output_type": "stream",
     "text": [
      "\n",
      "IFS=\" \"\n",
      "-------\n",
      "[a]\n",
      "[b]\n",
      "[c]\n",
      "\n",
      "IFS=:\n",
      "-----\n",
      "[]\n",
      "[a]\n",
      "[]\n",
      "[b]\n",
      "[c]\n",
      "[]\n",
      "[]\n"
     ]
    }
   ],
   "source": [
    "#!/bin/bash\n",
    "# $IFS 处理空白与处理其他字符不同\n",
    "output_args_per_line()\n",
    "{\n",
    "    for arg\n",
    "    do\n",
    "        echo \"[$arg]\"\n",
    "    done\n",
    "}\n",
    "\n",
    "echo; \n",
    "echo \"IFS=\\\" \\\"\"\n",
    "echo \"-------\"\n",
    "IFS=\" \"\n",
    "var=\" a  b c   \"\n",
    "output_args_per_line $var\n",
    "\n",
    "\n",
    "echo;\n",
    "echo \"IFS=:\"\n",
    "echo \"-----\"\n",
    "IFS=:\n",
    "var=\":a::b:c:::\"\n",
    "output_args_per_line $var"
   ]
  },
  {
   "cell_type": "code",
   "execution_count": 66,
   "metadata": {},
   "outputs": [
    {
     "name": "stdout",
     "output_type": "stream",
     "text": [
      "a b c d e f g\n",
      "===================\n",
      "a-b-c-d-e-f-g\n"
     ]
    }
   ],
   "source": [
    "#!/bin/bash\n",
    "\n",
    "display_postation_arg_with_IFS()\n",
    "{\n",
    "    IFS=\"-\"\n",
    "    echo $*   # 分割符不会显示\n",
    "    echo ===================\n",
    "    echo \"$*\"\n",
    "}\n",
    "\n",
    "display_postation_arg_with_IFS a b c d e f g"
   ]
  },
  {
   "cell_type": "markdown",
   "metadata": {},
   "source": [
    "15. IGNOREEOF\n",
    "\n",
    "告诉shell在log out之前要忽略多少文件结束符(control-D)."
   ]
  },
  {
   "cell_type": "markdown",
   "metadata": {},
   "source": [
    "16. local\n",
    "\n",
    "locale把按照所涉及到的文化传统的各个方面分成12个大类，这12个大类分别是：\n",
    "\n",
    "1、语言符号及其分类(LC_CTYPE) \n",
    "\n",
    "2、数字(LC_NUMERIC) \n",
    "\n",
    "3、比较和排序习惯(LC_COLLATE) \n",
    "\n",
    "4、时间显示格式(LC_TIME) \n",
    "\n",
    "5、货币单位(LC_MONETARY) \n",
    "\n",
    "6、信息主要是提示信息,错误信息,状态信息,标题,标签,按钮和菜单等(LC_MESSAGES) \n",
    "\n",
    "7、姓名书写方式(LC_NAME) \n",
    "\n",
    "8、地址书写方式(LC_ADDRESS) \n",
    "\n",
    "9、电话号码书写方式(LC_TELEPHONE) \n",
    "\n",
    "10、度量衡表达方式 (LC_MEASUREMENT) \n",
    "\n",
    "11、默认纸张尺寸大小(LC_PAPER) \n",
    "\n",
    "12、对locale自身包含信息的概述(LC_IDENTIFICATION)。\n",
    "\n",
    "所以说，locale就是某一个地域内的人们的语言习惯和文化传统和生活习惯。一个地区的locale就是根据这几大类的习惯定义的，这些locale定义文件放\n",
    "\n",
    "在/usr/share/i18n/locales目录下面，例如en_US, zh_CN and de_DE@euro都是locale的定义文件，这些文件都是用文本格式书写的，你可以用\n",
    "\n",
    "写字板打开，看看里边的内容，当然出了有限的注释以外，大部分东西可能你都看不懂，因为是用的Unicode的字符索引方式。\n",
    "\n",
    "Locale是软件在运行时的语言环境, 它包括语言(Language), 地域 (Territory) 和字符集(Codeset)。一个locale的书写格式为: 语言\\[_地域\\\\[.字符集\\]\\]。\n",
    "\n",
    "1、我说中文，身处中华人民共和国，使用国标2312字符集来表达字符。zh_CN.GB2312＝中文_中华人民共和国＋国标2312字符集\n",
    "\n",
    "设定locale就是设定12大类的locale分类属性，即12个LC_*。除了这12个变量可以设定以外，为了简便起见，还有两个变量：LC_ALL和LANG。它们之间\n",
    "\n",
    "有一个优先级的关系：LC_ALL > LC_* >LANG。可以这么说，LC_ALL是最上级设定或者强制设定，而LANG是默认设定值。\n",
    "\n",
    "1、如果你设定了LC_ALL＝zh_CN.UTF-8，那么不管LC_*和LANG设定成什么值，它们都会被强制服从LC_ALL的设定，成为 zh_CN.UTF-8。 \n",
    "\n",
    "2、假如你设定了LANG＝zh_CN.UTF-8，而其他的LC_*=en_US.UTF-8，并且没有设定LC_ALL的话，那么系统的locale设定以LC_*=en_US.UTF-8。 \n",
    "\n",
    "3、假如你设定了LANG＝zh_CN.UTF-8，而其他的LC_*，和LC_ALL均未设定的话，系统会将LC_*设定成默认值，也就是LANG的值zh_CN.UTF-8。 \n",
    "\n",
    "4、假如你设定了LANG＝zh_CN.UTF-8，而其他的LC_CTYPE=en_US.UTF-8，其他的LC_*，和LC_ALL均未设定的话，那么系统的locale设定将是：LC_CTYPE=en_US.UTF-8，其余的 LC_COLLATE，LC_MESSAGES等等均会采用默认值，也就是 LANG的值，也就是LC_COLLATE＝LC_MESSAGES＝……＝ LC_PAPER＝LANG＝zh_CN.UTF-8。 \n",
    "\n",
    "所以，locale是这样设定的： \n",
    "\n",
    "1、如果你需要一个纯中文的系统的话，设定LC_ALL= zh_CN.XXXX，或者LANG=zh_CN.XXXX都可以，当然你可以两个都设定，但正如上面所讲，LC_ALL\n",
    "\n",
    "的值将覆盖所有其他的locale设定，不要作无用功。 \n",
    "\n",
    "2、如果你只想要一个可以输入中文的环境，而保持菜单、标题，系统信息等等为英文界面，那么只需要设定 LC_CTYPE＝zh_CN.XXXX，\n",
    "\n",
    "LANG=en_US.XXXX就可以了。这样LC_CTYPE＝zh_CN.XXXX，而LC_COLLATE＝LC_MESSAGES＝……＝ LC_PAPER＝LANG＝en_US.XXXX。 \n",
    "\n",
    "3、假如你高兴的话，可以把12个LC_*一一设定成你需要的值，打造一个古灵精怪的系统： LC_CTYPE＝zh_CN.GBK/GBK(使用中文编码内码GBK字符集)；\n",
    "\n",
    "LC_NUMERIC=en_GB.ISO-8859-1(使用大不列颠的数字系统) LC_MEASUREMEN=de_DE@euro.ISO-8859-15(德国的度量衡使用ISO-8859-15字符集)\n",
    "\n",
    "罗马的地址书写方式，美国的纸张设定……。估计没人这么干吧。 \n",
    "\n",
    "4、假如你什么也不做的话，也就是LC_ALL，LANG和LC_*均不指定特定值的话，系统将采用POSIX作为lcoale，也就是C locale。\n",
    "\n",
    "LANG - Specifies the default locale for all unset locale variables\n",
    "\n",
    "LANGUAGE - Most programs use this for the language of its interface\n",
    "\n",
    "LANGUAGE是设置应用程序的界面语言。而LANG是优先级很低的一个变量，它指定所有与locale有关的变量的默认值\n"
   ]
  },
  {
   "cell_type": "code",
   "execution_count": 68,
   "metadata": {},
   "outputs": [
    {
     "name": "stdout",
     "output_type": "stream",
     "text": [
      "LANG=en_US.UTF-8\n",
      "LANGUAGE=en_US:en_CA:en_GB:en\n",
      "LC_CTYPE=en_US.UTF-8\n",
      "LC_NUMERIC=en_US.UTF-8\n",
      "LC_TIME=en_US.UTF-8\n",
      "LC_COLLATE=\"en_US.UTF-8\"\n",
      "LC_MONETARY=en_US.UTF-8\n",
      "LC_MESSAGES=\"en_US.UTF-8\"\n",
      "LC_PAPER=en_US.UTF-8\n",
      "LC_NAME=en_US.UTF-8\n",
      "LC_ADDRESS=en_US.UTF-8\n",
      "LC_TELEPHONE=en_US.UTF-8\n",
      "LC_MEASUREMENT=en_US.UTF-8\n",
      "LC_IDENTIFICATION=en_US.UTF-8\n",
      "LC_ALL=\n"
     ]
    }
   ],
   "source": [
    "locale"
   ]
  },
  {
   "cell_type": "markdown",
   "metadata": {},
   "source": [
    "17. LINENO  这个变量用来记录自身在脚本中所在的行号. 这个变量只有在脚本使用这个变量的时候才有意义, 并且这个变量一般用于调试目的."
   ]
  },
  {
   "cell_type": "code",
   "execution_count": 69,
   "metadata": {},
   "outputs": [
    {
     "name": "stdout",
     "output_type": "stream",
     "text": [
      "603\n"
     ]
    }
   ],
   "source": [
    "echo $LINENO"
   ]
  },
  {
   "cell_type": "markdown",
   "metadata": {},
   "source": [
    "18. MACHTYPE"
   ]
  },
  {
   "cell_type": "code",
   "execution_count": 70,
   "metadata": {},
   "outputs": [
    {
     "name": "stdout",
     "output_type": "stream",
     "text": [
      "x86_64 pc linux gnu\n"
     ]
    }
   ],
   "source": [
    "echo $MACHTYPE"
   ]
  },
  {
   "cell_type": "markdown",
   "metadata": {},
   "source": [
    "19. OSTYPE"
   ]
  },
  {
   "cell_type": "code",
   "execution_count": 71,
   "metadata": {},
   "outputs": [
    {
     "name": "stdout",
     "output_type": "stream",
     "text": [
      "linux gnu\n"
     ]
    }
   ],
   "source": [
    "echo $OSTYPE"
   ]
  },
  {
   "cell_type": "markdown",
   "metadata": {},
   "source": [
    "20. OLDPWD"
   ]
  },
  {
   "cell_type": "code",
   "execution_count": 73,
   "metadata": {},
   "outputs": [
    {
     "name": "stdout",
     "output_type": "stream",
     "text": [
      "/home\n"
     ]
    }
   ],
   "source": [
    "echo $OLDPWD"
   ]
  },
  {
   "cell_type": "markdown",
   "metadata": {},
   "source": [
    "21. PIPESTATUS \n",
    "\n",
    "PIPESTATUS数组的每个成员都保存了运行在管道中的相应命令的退出状态码. PIPESTATUS\\[0\\]保存管道中第一个命令的退出状态码. PIPESTATUS\\[1\\]保存第二个命令的退出状态码, 依此类推"
   ]
  },
  {
   "cell_type": "code",
   "execution_count": 77,
   "metadata": {},
   "outputs": [
    {
     "name": "stdout",
     "output_type": "stream",
     "text": [
      "bogus_command: command not found\n",
      "0 127\n"
     ]
    }
   ],
   "source": [
    "ls -al | bogus_command \n",
    "\n",
    "echo ${PIPESTATUS[@]}   #显示数组所有值"
   ]
  },
  {
   "cell_type": "markdown",
   "metadata": {},
   "source": [
    "22. $PPID 保存父进程id"
   ]
  },
  {
   "cell_type": "markdown",
   "metadata": {},
   "source": [
    "23. PS1   主提示符显示的内容 "
   ]
  },
  {
   "cell_type": "code",
   "execution_count": 79,
   "metadata": {},
   "outputs": [
    {
     "name": "stdout",
     "output_type": "stream",
     "text": [
      "[PEXP\\[\\]ECT_PROMPT>\n"
     ]
    }
   ],
   "source": [
    "echo $PS1"
   ]
  },
  {
   "cell_type": "markdown",
   "metadata": {},
   "source": [
    "24. PS2 第二提示符  PS3  PS4"
   ]
  },
  {
   "cell_type": "code",
   "execution_count": 81,
   "metadata": {},
   "outputs": [
    {
     "name": "stdout",
     "output_type": "stream",
     "text": [
      "[PEXP\\[\\]ECT_PROMPT+\n"
     ]
    }
   ],
   "source": [
    "echo $PS2"
   ]
  },
  {
   "cell_type": "markdown",
   "metadata": {},
   "source": [
    "25. PROMPT_COMMAND 在显示主提示符 PS1之前需要执行的命令"
   ]
  },
  {
   "cell_type": "code",
   "execution_count": 82,
   "metadata": {},
   "outputs": [
    {
     "name": "stdout",
     "output_type": "stream",
     "text": [
      "\n"
     ]
    }
   ],
   "source": [
    "echo $PROMPT_COMMAND"
   ]
  },
  {
   "cell_type": "markdown",
   "metadata": {},
   "source": [
    "26. REPLY  当read命令后没有提供变量时，使用REPLY保存输入值"
   ]
  },
  {
   "cell_type": "markdown",
   "metadata": {},
   "source": [
    "read fruit     # 输入值会保存到fruit中\n",
    "\n",
    "read           # 输入值会被保存到$REPLY中"
   ]
  },
  {
   "cell_type": "markdown",
   "metadata": {},
   "source": [
    "27. SECONDS 脚本运行时间"
   ]
  },
  {
   "cell_type": "code",
   "execution_count": 87,
   "metadata": {},
   "outputs": [
    {
     "name": "stdout",
     "output_type": "stream",
     "text": [
      "This script has been running 0 seconds.\n",
      "This script has been running 1 second.\n",
      "This script has been running 2 seconds.\n",
      "This script has been running 3 seconds.\n",
      "This script has been running 4 seconds.\n",
      "This script has been running 5 seconds.\n",
      "This script has been running 6 seconds.\n",
      "This script has been running 7 seconds.\n",
      "This script has been running 8 seconds.\n",
      "This script has been running 9 seconds.\n",
      "This script has been running 10 seconds.\n",
      "exit\n",
      "Restarting Bash"
     ]
    }
   ],
   "source": [
    "#!/bin/bash\n",
    "\n",
    "TIME_LIMIT=10\n",
    "INTERVAL=1\n",
    "\n",
    "SECONDS=0\n",
    "\n",
    "while [ \"$SECONDS\" -le \"$TIME_LIMIT\" ]\n",
    "do\n",
    "    if [ \"$SECONDS\" -eq 1 ]\n",
    "    then\n",
    "        units=second\n",
    "    else\n",
    "        units=seconds\n",
    "    fi\n",
    "    echo \"This script has been running $SECONDS $units.\"\n",
    "    sleep $INTERVAL\n",
    "done\n",
    "\n",
    "exit 0"
   ]
  },
  {
   "cell_type": "markdown",
   "metadata": {},
   "source": [
    "28. SHELLOPTS 只读 shell中激活的选项列表"
   ]
  },
  {
   "cell_type": "code",
   "execution_count": 88,
   "metadata": {},
   "outputs": [
    {
     "name": "stdout",
     "output_type": "stream",
     "text": [
      "braceexpand:emacs:hashall:histexpand:history:interactive-comments:monitor\n"
     ]
    }
   ],
   "source": [
    "echo $SHELLOPTS"
   ]
  },
  {
   "cell_type": "markdown",
   "metadata": {},
   "source": [
    "29. SHLVL   Bash被嵌套的深度 如果是在命令行中, 那么$SHLVL为1, 如果在脚本中那么$SHLVL为2."
   ]
  },
  {
   "cell_type": "code",
   "execution_count": 89,
   "metadata": {},
   "outputs": [
    {
     "name": "stdout",
     "output_type": "stream",
     "text": [
      "3\n"
     ]
    }
   ],
   "source": [
    "echo $SHLVL"
   ]
  },
  {
   "cell_type": "markdown",
   "metadata": {},
   "source": [
    "30. TMOUT 被设置为非零值time的话, 那么经过time秒后, shell提示符将会超时. 这将会导致登出(logout)."
   ]
  },
  {
   "cell_type": "markdown",
   "metadata": {},
   "source": [
    "31. ENV, LOGNAME, MAIL, TERM, USER, 和USERNAME都不是Bash的内建变量. 然而这些变量经常在Bash的启动文件中被当作环境变量来设置."
   ]
  },
  {
   "cell_type": "code",
   "execution_count": 92,
   "metadata": {},
   "outputs": [
    {
     "name": "stdout",
     "output_type": "stream",
     "text": [
      "/usr/bin/zsh\n"
     ]
    }
   ],
   "source": [
    "echo $SHELL  #用户的登录shell"
   ]
  },
  {
   "cell_type": "code",
   "execution_count": 93,
   "metadata": {},
   "outputs": [
    {
     "name": "stdout",
     "output_type": "stream",
     "text": [
      "xterm-256color\n"
     ]
    }
   ],
   "source": [
    "echo $TERM"
   ]
  },
  {
   "cell_type": "code",
   "execution_count": 94,
   "metadata": {},
   "outputs": [
    {
     "name": "stdout",
     "output_type": "stream",
     "text": [
      "zhaorenjie\n"
     ]
    }
   ],
   "source": [
    "echo $LOGNAME"
   ]
  },
  {
   "cell_type": "code",
   "execution_count": 95,
   "metadata": {},
   "outputs": [
    {
     "name": "stdout",
     "output_type": "stream",
     "text": [
      "zhaorenjie\n"
     ]
    }
   ],
   "source": [
    "echo $USER"
   ]
  },
  {
   "cell_type": "code",
   "execution_count": 96,
   "metadata": {},
   "outputs": [
    {
     "name": "stdout",
     "output_type": "stream",
     "text": [
      "zhaorenjie\n"
     ]
    }
   ],
   "source": [
    "echo $USERNAME"
   ]
  },
  {
   "cell_type": "code",
   "execution_count": 97,
   "metadata": {},
   "outputs": [
    {
     "name": "stdout",
     "output_type": "stream",
     "text": [
      "\n"
     ]
    }
   ],
   "source": [
    "echo $MAIL"
   ]
  },
  {
   "cell_type": "code",
   "execution_count": 98,
   "metadata": {},
   "outputs": [
    {
     "name": "stdout",
     "output_type": "stream",
     "text": [
      "\n"
     ]
    }
   ],
   "source": [
    "echo $ENV"
   ]
  },
  {
   "cell_type": "markdown",
   "metadata": {},
   "source": [
    "32. $@与$*区别"
   ]
  },
  {
   "cell_type": "code",
   "execution_count": 106,
   "metadata": {},
   "outputs": [
    {
     "name": "stdout",
     "output_type": "stream",
     "text": [
      "\n",
      "Listing args with \"$*\":\n",
      "Arg #1 [one two three four]\n",
      "\n",
      "Listing args with $*:\n",
      "Arg #1 [one]\n",
      "Arg #1 [two]\n",
      "Arg #1 [three]\n",
      "Arg #1 [four]\n",
      "\n",
      "Listing args with \"$@\":\n",
      "Arg #1 [one]\n",
      "Arg #1 [two]\n",
      "Arg #1 [three]\n",
      "Arg #1 [four]\n",
      "\n",
      "Listing args with $@:\n",
      "Arg #1 [one]\n",
      "Arg #1 [two]\n",
      "Arg #1 [three]\n",
      "Arg #1 [four]\n"
     ]
    }
   ],
   "source": [
    "#!/bin/bash\n",
    "\n",
    "E_BADARGS=65\n",
    "\n",
    "\n",
    "arglist()\n",
    "{\n",
    "    if [ $# -eq 0 ]\n",
    "    then\n",
    "        echo \"Usage: `basename $0` argument1 argument2 etc.\"\n",
    "        exit $E_BADARGS\n",
    "    fi\n",
    "    \n",
    "    echo\n",
    "    \n",
    "    index=1\n",
    "    echo \"Listing args with \\\"\\$*\\\":\"\n",
    "    for arg in \"$*\"\n",
    "    do\n",
    "        echo \"Arg #$index [$arg]\"\n",
    "    done\n",
    "    \n",
    "    echo\n",
    "    \n",
    "    index=1\n",
    "    echo \"Listing args with \\$*:\"\n",
    "    for arg in $*\n",
    "    do\n",
    "        echo \"Arg #$index [$arg]\"\n",
    "    done\n",
    "    \n",
    "    echo\n",
    "    \n",
    "    index=1\n",
    "    echo \"Listing args with \\\"\\$@\\\":\"\n",
    "    for arg in $*\n",
    "    do\n",
    "        echo \"Arg #$index [$arg]\"\n",
    "    done\n",
    "    \n",
    "    echo\n",
    "    \n",
    "    index=1\n",
    "    echo \"Listing args with \\$@:\"\n",
    "    for arg in $*\n",
    "    do\n",
    "        echo \"Arg #$index [$arg]\"\n",
    "    done\n",
    "}\n",
    "\n",
    "\n",
    "arglist one two three four\n",
    "\n",
    "\n",
    "\n"
   ]
  },
  {
   "cell_type": "code",
   "execution_count": 110,
   "metadata": {},
   "outputs": [
    {
     "name": "stdout",
     "output_type": "stream",
     "text": [
      "Listing args with $@:\n",
      "2 3 4 5\n",
      "\n",
      "Listing args with $*:\n",
      "2 3 4 5\n"
     ]
    }
   ],
   "source": [
    "#!/bin/bash\n",
    "\n",
    "E_BADARGS=65\n",
    "\n",
    "shift_args()\n",
    "{\n",
    "    if [ $# -eq 0 ]\n",
    "    then\n",
    "        echo \"Usage: `basename $0` argument1 argument2 etc.\"\n",
    "        exit $E_BADARGS\n",
    "    fi\n",
    "    \n",
    "    shift\n",
    "    \n",
    "   echo \"Listing args with \\$@:\"\n",
    "   echo $@\n",
    "   \n",
    "   echo\n",
    "   \n",
    "   echo \"Listing args with \\$*:\"\n",
    "   echo $*\n",
    "}\n",
    "\n",
    "shift_args 1 2 3 4 5"
   ]
  },
  {
   "cell_type": "code",
   "execution_count": 131,
   "metadata": {},
   "outputs": [
    {
     "name": "stdout",
     "output_type": "stream",
     "text": [
      "\n",
      "IFS unchanged, using \"$*\"\n",
      "1: [First one second third:one  Fifth: :one]\n",
      "------------------------------------------------\n",
      "IFS unchanged, using $*\n",
      "1: [First]\n",
      "2: [one]\n",
      "3: [second]\n",
      "4: [third:one]\n",
      "5: [Fifth:]\n",
      "6: [:one]\n",
      "------------------------------------------------\n",
      "IFS unchanged, using \"$@\"\n",
      "1: [First one]\n",
      "2: [second]\n",
      "3: [third:one]\n",
      "4: []\n",
      "5: [Fifth: :one]\n",
      "------------------------------------------------\n",
      "IFS unchanged, using $@\n",
      "1: [First]\n",
      "2: [one]\n",
      "3: [second]\n",
      "4: [third:one]\n",
      "5: [Fifth:]\n",
      "6: [:one]\n",
      "------------------------------------------------\n",
      "IFS=\":\", using \"$*\"\n",
      "1: [First one:second:third:one::Fifth: :one]\n",
      "------------------------------------------------\n",
      "IFS=\":\", using $*\n",
      "1: [First one]\n",
      "2: [second]\n",
      "3: [third]\n",
      "4: [one]\n",
      "5: []\n",
      "6: [Fifth]\n",
      "7: [ ]\n",
      "8: [one]\n",
      "------------------------------------------------\n",
      "IFS=\":\", using \"$var\" (var=$*)\n",
      "1: [First one:second:third:one::Fifth: :one]\n",
      "------------------------------------------------\n",
      "IFS=\":\", using $var (var=$*)\n",
      "1: [First one]\n",
      "2: [second]\n",
      "3: [third]\n",
      "4: [one]\n",
      "5: []\n",
      "6: [Fifth]\n",
      "7: [ ]\n",
      "8: [one]\n",
      "------------------------------------------------\n",
      "IFS=\":\", using $var (var=\"$*\")\n",
      "1: [First one]\n",
      "2: [second]\n",
      "3: [third]\n",
      "4: [one]\n",
      "5: []\n",
      "6: [Fifth]\n",
      "7: [ ]\n",
      "8: [one]\n",
      "------------------------------------------------\n",
      "IFS=\":\", using \"$var\" (var=\"$*\")\n",
      "1: [First one:second:third:one::Fifth: :one]\n",
      "------------------------------------------------\n",
      "IFS=\":\", using \"$@\"\n",
      "1: [First one]\n",
      "2: [second]\n",
      "3: [third:one]\n",
      "4: []\n",
      "5: [Fifth: :one]\n",
      "------------------------------------------------\n",
      "IFS=\":\", using $@\n",
      "1: [First one]\n",
      "2: [second]\n",
      "3: [third]\n",
      "4: [one]\n",
      "5: []\n",
      "6: [Fifth]\n",
      "7: [ ]\n",
      "8: [one]\n",
      "------------------------------------------------\n",
      "IFS=\":\", using $var (var=$@)\n",
      "1: [First one second third]\n",
      "2: [one  Fifth]\n",
      "3: [ ]\n",
      "4: [one]\n",
      "------------------------------------------------\n",
      "IFS=\":\", using \"$var\" (var=$@)\n",
      "1: [First one second third:one  Fifth: :one]\n",
      "------------------------------------------------\n",
      "IFS=\":\", using \"$var\" (var=\"$@\")\n",
      "1: [First one second third:one  Fifth: :one]\n",
      "------------------------------------------------\n",
      "IFS=\":\", using $var (var=\"$@\")\n",
      "1: [First one second third]\n",
      "2: [one  Fifth]\n",
      "3: [ ]\n",
      "4: [one]\n",
      "\n",
      "exit\n",
      "Restarting Bash"
     ]
    }
   ],
   "source": [
    "#!/bin/bash\n",
    "\n",
    "set -- \"First one\" \"second\" \"third:one\" \"\" \"Fifth: :one\"\n",
    "\n",
    "echo\n",
    "\n",
    "echo 'IFS unchanged, using \"$*\"'\n",
    "c=0\n",
    "for i in \"$*\"                 # 引用起来\n",
    " do \n",
    "     echo \"$((c+=1)): [$i]\"   # 这行在下边每个例子中都一样.\n",
    "                              # 打印参数.\n",
    " done\n",
    "echo ------------------------------------------------\n",
    "\n",
    "echo 'IFS unchanged, using $*'\n",
    "c=0\n",
    "for i in $*                 # 引用起来\n",
    " do \n",
    "     echo \"$((c+=1)): [$i]\"   # 这行在下边每个例子中都一样.\n",
    "                              # 打印参数.\n",
    " done\n",
    "echo ------------------------------------------------\n",
    "\n",
    "echo 'IFS unchanged, using \"$@\"'\n",
    "c=0\n",
    "for i in \"$@\"\n",
    "do \n",
    "    echo \"$((c+=1)): [$i]\"\n",
    "done\n",
    "echo ------------------------------------------------\n",
    "\n",
    "echo 'IFS unchanged, using $@'\n",
    "c=0\n",
    "for i in $@\n",
    "do \n",
    "    echo \"$((c+=1)): [$i]\"\n",
    "done\n",
    "echo ------------------------------------------------\n",
    "\n",
    "IFS=:\n",
    "echo 'IFS=\":\", using \"$*\"'\n",
    "c=0\n",
    "for i in \"$*\"\n",
    "    do echo \"$((c+=1)): [$i]\"\n",
    "done\n",
    "echo ------------------------------------------------\n",
    "\n",
    "echo 'IFS=\":\", using $*'\n",
    "c=0\n",
    "for i in $*\n",
    "do \n",
    "     echo \"$((c+=1)): [$i]\"\n",
    "done\n",
    "\n",
    "echo ------------------------------------------------\n",
    "\n",
    "var=$*\n",
    "echo 'IFS=\":\", using \"$var\" (var=$*)'\n",
    "c=0\n",
    "for i in \"$var\"\n",
    "do \n",
    "    echo \"$((c+=1)): [$i]\"\n",
    "done\n",
    "echo ------------------------------------------------\n",
    "\n",
    "echo 'IFS=\":\", using $var (var=$*)'\n",
    "c=0\n",
    "for i in $var\n",
    "do \n",
    "    echo \"$((c+=1)): [$i]\"\n",
    "done\n",
    "echo ------------------------------------------------\n",
    "\n",
    "var=\"$*\"\n",
    "echo 'IFS=\":\", using $var (var=\"$*\")'\n",
    "c=0\n",
    "for i in $var\n",
    "do \n",
    "    echo \"$((c+=1)): [$i]\"\n",
    "done\n",
    "echo ------------------------------------------------\n",
    "\n",
    "echo 'IFS=\":\", using \"$var\" (var=\"$*\")'\n",
    "c=0\n",
    "for i in \"$var\"\n",
    "do echo \"$((c+=1)): [$i]\"\n",
    "done\n",
    "echo ------------------------------------------------\n",
    "\n",
    "echo 'IFS=\":\", using \"$@\"'\n",
    "c=0\n",
    "for i in \"$@\"\n",
    "do \n",
    "    echo \"$((c+=1)): [$i]\"\n",
    "done\n",
    "\n",
    "echo ------------------------------------------------\n",
    "echo 'IFS=\":\", using $@'\n",
    "c=0\n",
    "for i in $@\n",
    "do echo \"$((c+=1)): [$i]\"\n",
    "done\n",
    "echo ------------------------------------------------\n",
    "var=$@\n",
    "echo 'IFS=\":\", using $var (var=$@)'\n",
    "c=0\n",
    "for i in $var\n",
    "do \n",
    "    echo \"$((c+=1)): [$i]\"\n",
    "done\n",
    "echo ------------------------------------------------\n",
    " \n",
    "echo 'IFS=\":\", using \"$var\" (var=$@)'\n",
    "c=0\n",
    "for i in \"$var\"\n",
    "do \n",
    "    echo \"$((c+=1)): [$i]\"\n",
    "done\n",
    "echo ------------------------------------------------\n",
    " \n",
    "var=\"$@\"\n",
    "echo 'IFS=\":\", using \"$var\" (var=\"$@\")'\n",
    "c=0\n",
    "for i in \"$var\"\n",
    "do \n",
    "    echo \"$((c+=1)): [$i]\"\n",
    "done\n",
    "echo ------------------------------------------------\n",
    " \n",
    "echo 'IFS=\":\", using $var (var=\"$@\")'\n",
    "c=0\n",
    "for i in $var\n",
    "do \n",
    "    echo \"$((c+=1)): [$i]\"\n",
    "done\n",
    " \n",
    "echo\n",
    "\n",
    "IFS=\" \"\n",
    "exit 0\n"
   ]
  },
  {
   "cell_type": "markdown",
   "metadata": {},
   "source": [
    "33. $_  这个变量保存之前执行的命令的最后一个参数的值."
   ]
  },
  {
   "cell_type": "code",
   "execution_count": 7,
   "metadata": {},
   "outputs": [
    {
     "name": "stdout",
     "output_type": "stream",
     "text": [
      "3\n"
     ]
    }
   ],
   "source": [
    "#!/bin/bash\n",
    "\n",
    "set  1 2 3\n",
    "echo $_"
   ]
  },
  {
   "cell_type": "markdown",
   "metadata": {},
   "source": [
    "34. $!运行在后台的作业ID"
   ]
  },
  {
   "cell_type": "markdown",
   "metadata": {},
   "source": [
    "possibly_hanging_job & { sleep 100; eval 'kill -9 $!' &> /dev/null; } \n",
    "\n",
    "#强制结束一个出错程序.\n",
    "#很有用, 比如用在init脚本中"
   ]
  },
  {
   "cell_type": "code",
   "execution_count": 15,
   "metadata": {},
   "outputs": [
    {
     "name": "stdout",
     "output_type": "stream",
     "text": [
      "PID of $COMMAND1:[1] 19127\n",
      "19127\n"
     ]
    },
    {
     "ename": "",
     "evalue": "1",
     "output_type": "error",
     "traceback": []
    }
   ],
   "source": [
    "#!/bin/bash\n",
    "\n",
    "COMMAND1=\"sleep 5\"\n",
    "\n",
    "echo -n 'PID of $COMMAND1:'\n",
    "${COMMAND1} &\n",
    "\n",
    "echo $!\n",
    "eval 'kill -9 $!'"
   ]
  },
  {
   "cell_type": "markdown",
   "metadata": {},
   "source": [
    "35. $$ 当前进程ID"
   ]
  },
  {
   "cell_type": "markdown",
   "metadata": {},
   "source": [
    "36. $? 退出码"
   ]
  },
  {
   "cell_type": "markdown",
   "metadata": {},
   "source": [
    "# 字符串操作"
   ]
  },
  {
   "cell_type": "markdown",
   "metadata": {},
   "source": [
    "## 字符串长度"
   ]
  },
  {
   "cell_type": "markdown",
   "metadata": {},
   "source": [
    "${#string}"
   ]
  },
  {
   "cell_type": "code",
   "execution_count": 20,
   "metadata": {},
   "outputs": [
    {
     "name": "stdout",
     "output_type": "stream",
     "text": [
      "15\n",
      "15\n",
      "15\n"
     ]
    }
   ],
   "source": [
    "stringZ=abcABC123ABCabc\n",
    "\n",
    "echo ${#stringZ}\n",
    "\n",
    "expr length $stringZ\n",
    "\n",
    "expr \"$stringZ\" : '.*'"
   ]
  },
  {
   "cell_type": "markdown",
   "metadata": {},
   "source": [
    "## 匹配字符串开头的字串长度"
   ]
  },
  {
   "cell_type": "markdown",
   "metadata": {},
   "source": [
    "expr match \"$string\" '$substring'"
   ]
  },
  {
   "cell_type": "code",
   "execution_count": 23,
   "metadata": {},
   "outputs": [
    {
     "name": "stdout",
     "output_type": "stream",
     "text": [
      "8\n"
     ]
    }
   ],
   "source": [
    "stringZ=abcABC123ABCabc\n",
    "\n",
    "expr match \"$stringZ\" 'abc[A-Z]*.2'"
   ]
  },
  {
   "cell_type": "markdown",
   "metadata": {},
   "source": [
    "## 索引，子串中的字符第一次出现的位置"
   ]
  },
  {
   "cell_type": "markdown",
   "metadata": {},
   "source": [
    "expr index \"$string\" \"$substring\""
   ]
  },
  {
   "cell_type": "code",
   "execution_count": 27,
   "metadata": {},
   "outputs": [
    {
     "name": "stdout",
     "output_type": "stream",
     "text": [
      "6\n",
      "3\n"
     ]
    }
   ],
   "source": [
    " stringZ=abcABC123ABCabc\n",
    " \n",
    " expr index \"$stringZ\" 'C12'\n",
    " expr index \"$stringZ\" '2c'   #不匹配完整串"
   ]
  },
  {
   "cell_type": "markdown",
   "metadata": {},
   "source": [
    "## 提前字串"
   ]
  },
  {
   "cell_type": "markdown",
   "metadata": {},
   "source": [
    "${string:pos:length}"
   ]
  },
  {
   "cell_type": "code",
   "execution_count": 34,
   "metadata": {},
   "outputs": [
    {
     "name": "stdout",
     "output_type": "stream",
     "text": [
      "ABC123ABCabc\n",
      "ABC1\n",
      "Cabc\n",
      "abcABC123ABCabc\n",
      "4\n"
     ]
    }
   ],
   "source": [
    "stringZ=abcABC123ABCabc\n",
    "\n",
    "echo ${stringZ:3}                #0-based\n",
    "echo ${stringZ:3:4}\n",
    "\n",
    "echo ${stringZ: -4}              #倒数，-4前要有空格或者${stringZ:(-4)}\n",
    "echo ${stringZ:-4}               #${string:-default} 没有空格，测试string是否有值\n",
    "echo ${string:-4} "
   ]
  },
  {
   "cell_type": "code",
   "execution_count": 37,
   "metadata": {},
   "outputs": [
    {
     "name": "stdout",
     "output_type": "stream",
     "text": [
      "b c d e f g\n",
      "b c d e f g\n",
      "c d\n"
     ]
    }
   ],
   "source": [
    "#!/bin/bash\n",
    "\n",
    "#提取位置参数\n",
    "\n",
    "set -- a b c d e f g\n",
    "\n",
    "echo ${*:2}\n",
    "echo ${@:2}\n",
    "echo ${*:3:2}\n"
   ]
  },
  {
   "cell_type": "markdown",
   "metadata": {},
   "source": [
    "expr match \"$string\" '\\( $substring \\)'"
   ]
  },
  {
   "cell_type": "code",
   "execution_count": 71,
   "metadata": {},
   "outputs": [
    {
     "name": "stdout",
     "output_type": "stream",
     "text": [
      "abcABC123ABCabc\n",
      "abcABC1\n"
     ]
    }
   ],
   "source": [
    "stringZ=abcABC123ABCabc\n",
    "\n",
    "expr match \"$stringZ\" '\\(.*\\)'\n",
    "expr match \"$stringZ\" '\\(.[b-c]*[A-Z]..[0-9]\\)'"
   ]
  },
  {
   "cell_type": "markdown",
   "metadata": {},
   "source": [
    "expr match \"$string\" '.*\\($substring\\)'    从结尾向前匹配"
   ]
  },
  {
   "cell_type": "code",
   "execution_count": 76,
   "metadata": {},
   "outputs": [
    {
     "name": "stdout",
     "output_type": "stream",
     "text": [
      "abc\n"
     ]
    }
   ],
   "source": [
    "stringZ=abcABC123ABCabc\n",
    "\n",
    "expr match \"$stringZ\" '.*\\([a-z]..\\)'"
   ]
  },
  {
   "cell_type": "markdown",
   "metadata": {},
   "source": [
    "## 字串削除"
   ]
  },
  {
   "cell_type": "markdown",
   "metadata": {},
   "source": [
    "${string#substring}     从开头开始消除最短匹配"
   ]
  },
  {
   "cell_type": "markdown",
   "metadata": {},
   "source": [
    "${string##substring} 从结尾开始消除最长匹配"
   ]
  },
  {
   "cell_type": "code",
   "execution_count": 86,
   "metadata": {},
   "outputs": [
    {
     "name": "stdout",
     "output_type": "stream",
     "text": [
      "123ABCabc\n",
      "abc\n"
     ]
    }
   ],
   "source": [
    "stringZ=abcABC123ABCabc\n",
    "\n",
    "echo ${stringZ#a*C}\n",
    "echo ${stringZ##a*C}"
   ]
  },
  {
   "cell_type": "markdown",
   "metadata": {},
   "source": [
    "${string%substring}  从结尾开始最短匹配\n"
   ]
  },
  {
   "cell_type": "markdown",
   "metadata": {},
   "source": [
    "${string%%substring} 从结尾开始最长匹配"
   ]
  },
  {
   "cell_type": "code",
   "execution_count": 89,
   "metadata": {},
   "outputs": [
    {
     "name": "stdout",
     "output_type": "stream",
     "text": [
      "abcABC123ABCa\n",
      "abcABC123ABC\n",
      "a\n"
     ]
    }
   ],
   "source": [
    "stringZ=abcABC123ABCabc\n",
    "\n",
    "echo ${stringZ%b*c}\n",
    "echo ${stringZ%abc} \n",
    "echo ${stringZ%%b*c} "
   ]
  },
  {
   "cell_type": "markdown",
   "metadata": {},
   "source": [
    "## 字串替换"
   ]
  },
  {
   "cell_type": "markdown",
   "metadata": {},
   "source": [
    "${string/substring/replacement}  替换第一个匹配"
   ]
  },
  {
   "cell_type": "markdown",
   "metadata": {},
   "source": [
    "${string//substring/replacement}  替换所有匹配"
   ]
  },
  {
   "cell_type": "markdown",
   "metadata": {},
   "source": [
    "${string/#substring/replacement}  如果能匹配string开头就进行替换"
   ]
  },
  {
   "cell_type": "markdown",
   "metadata": {},
   "source": [
    "${string/%substring/replacement}  如果能匹配string结尾就进行替换"
   ]
  },
  {
   "cell_type": "code",
   "execution_count": 98,
   "metadata": {},
   "outputs": [
    {
     "name": "stdout",
     "output_type": "stream",
     "text": [
      "XYZABC123ABCabc\n",
      "abcABC123ABCXYZ\n"
     ]
    }
   ],
   "source": [
    "stringZ=abcABC123ABCabc\n",
    "\n",
    "echo ${stringZ/#abc/XYZ}\n",
    "\n",
    "echo ${stringZ/%abc/XYZ}\n"
   ]
  },
  {
   "cell_type": "markdown",
   "metadata": {},
   "source": [
    "## 参数替换"
   ]
  },
  {
   "cell_type": "markdown",
   "metadata": {},
   "source": [
    "${string-default}  如果string没有被**声明**，就使用默认值,  设置为null值也是被声明  例如 str="
   ]
  },
  {
   "cell_type": "markdown",
   "metadata": {},
   "source": [
    "${string:-default}  如果string没有被**设置**，就使用默认值  设置是指string不为null"
   ]
  },
  {
   "cell_type": "code",
   "execution_count": 101,
   "metadata": {},
   "outputs": [
    {
     "name": "stdout",
     "output_type": "stream",
     "text": [
      "1\n",
      "------------------------------\n",
      "\n",
      "------------------------------\n",
      "3\n"
     ]
    }
   ],
   "source": [
    "echo ${usr1-1}\n",
    "\n",
    "echo ------------------------------\n",
    "usr2=\n",
    "echo ${usr2-2}\n",
    "\n",
    "echo ------------------------------\n",
    "usr3=\n",
    "echo ${usr3:-3}"
   ]
  },
  {
   "cell_type": "markdown",
   "metadata": {},
   "source": [
    "${string=default}    如果string没有被**声明**就将string设置为默认值"
   ]
  },
  {
   "cell_type": "markdown",
   "metadata": {},
   "source": [
    "${string:=default} 如果string没有被**设置**，就将string设置为默认值"
   ]
  },
  {
   "cell_type": "code",
   "execution_count": 103,
   "metadata": {},
   "outputs": [
    {
     "name": "stdout",
     "output_type": "stream",
     "text": [
      "1\n",
      "-------------------\n",
      "\n",
      "-------------------\n",
      "3\n"
     ]
    }
   ],
   "source": [
    "echo ${str1=1}\n",
    "echo -------------------\n",
    "str2=\n",
    "echo ${str2=2}\n",
    "echo -------------------\n",
    "str3=\n",
    "echo ${str3:=3}"
   ]
  },
  {
   "cell_type": "markdown",
   "metadata": {},
   "source": [
    "${string?err_msg}  如果string未**声明** ，就显示err_msg"
   ]
  },
  {
   "cell_type": "markdown",
   "metadata": {},
   "source": [
    "${string:?err_msg}  如果string未**设置**，就显示err_msg"
   ]
  },
  {
   "cell_type": "code",
   "execution_count": 106,
   "metadata": {},
   "outputs": [
    {
     "name": "stdout",
     "output_type": "stream",
     "text": [
      "bash: stre1: not set\n",
      "--------------------------\n",
      "\n",
      "--------------------------\n",
      "bash: stre3: not set\n"
     ]
    },
    {
     "ename": "",
     "evalue": "1",
     "output_type": "error",
     "traceback": []
    }
   ],
   "source": [
    "echo ${stre1?\"not set\"}\n",
    "echo --------------------------\n",
    "stre2=\n",
    "echo ${stre2?\"not set\"}\n",
    "echo --------------------------\n",
    "stre3=\n",
    "echo ${stre3:?\"not set\"}\n"
   ]
  },
  {
   "cell_type": "markdown",
   "metadata": {},
   "source": [
    "${string+alt_msg}  如果变量被**声明**，就使用alt_msg"
   ]
  },
  {
   "cell_type": "markdown",
   "metadata": {},
   "source": [
    "${string:+alt_msg} 如果变量被**设置**，就使用alt_msg"
   ]
  },
  {
   "cell_type": "code",
   "execution_count": 110,
   "metadata": {},
   "outputs": [
    {
     "name": "stdout",
     "output_type": "stream",
     "text": [
      "alt msg\n",
      "-----------------------\n",
      "\n",
      "-----------------------\n",
      "alt msg\n"
     ]
    }
   ],
   "source": [
    "stral1=\n",
    "echo ${stral1+\"alt msg\"}\n",
    "\n",
    "echo -----------------------\n",
    "\n",
    "stral3=\n",
    "echo ${stral3:+\"alt msg\"}\n",
    "echo -----------------------\n",
    "stral2=1\n",
    "echo ${stral2:+\"alt msg\"}"
   ]
  },
  {
   "cell_type": "markdown",
   "metadata": {},
   "source": [
    "${!var*}  匹配之前声明过的变量"
   ]
  },
  {
   "cell_type": "markdown",
   "metadata": {},
   "source": [
    "${!var@} 匹配之前声明过的变量"
   ]
  },
  {
   "cell_type": "code",
   "execution_count": 113,
   "metadata": {},
   "outputs": [
    {
     "name": "stdout",
     "output_type": "stream",
     "text": [
      "xyz23 xyz24\n",
      "xyz23 xyz24\n"
     ]
    }
   ],
   "source": [
    "xyz23=what\n",
    "xyz24=\n",
    "\n",
    "echo ${!xyz*}\n",
    "echo ${!xyz@}"
   ]
  },
  {
   "cell_type": "markdown",
   "metadata": {},
   "source": [
    "## declare/typeset 指定变量的类型"
   ]
  },
  {
   "cell_type": "markdown",
   "metadata": {},
   "source": [
    "declare/typeset 命令相同，指定变量类型"
   ]
  },
  {
   "cell_type": "markdown",
   "metadata": {},
   "source": [
    "1. declare -r val   指定变量只读   类似  readonly var"
   ]
  },
  {
   "cell_type": "markdown",
   "metadata": {},
   "source": [
    "2. declare -i var   指定变量为整形 "
   ]
  },
  {
   "cell_type": "code",
   "execution_count": 117,
   "metadata": {},
   "outputs": [
    {
     "name": "stdout",
     "output_type": "stream",
     "text": [
      "6/2\n",
      "3\n"
     ]
    }
   ],
   "source": [
    "a=6/2\n",
    "\n",
    "echo $a\n",
    "\n",
    "declare -i b\n",
    "\n",
    "b=6/2\n",
    "\n",
    "echo $b"
   ]
  },
  {
   "cell_type": "markdown",
   "metadata": {},
   "source": [
    "3. declare -a array   声明数组"
   ]
  },
  {
   "cell_type": "markdown",
   "metadata": {},
   "source": [
    "4. declare -f  列出脚本定义的函数"
   ]
  },
  {
   "cell_type": "code",
   "execution_count": 120,
   "metadata": {},
   "outputs": [
    {
     "name": "stdout",
     "output_type": "stream",
     "text": [
      "__fzf_cd__ () \n",
      "{ \n",
      "    local cmd dir;\n",
      "    cmd=\"${FZF_ALT_C_COMMAND:-\"command find -L . -mindepth 1 \\\\( -path '*/\\\\.*' -o -fstype 'sysfs' -o -fstype 'devfs' -o -fstype 'devtmpfs' -o -fstype 'proc' \\\\) -prune     -o -type d -print 2> /dev/null | cut -b3-\"}\";\n",
      "    dir=$(eval \"$cmd\" | FZF_DEFAULT_OPTS=\"--height ${FZF_TMUX_HEIGHT:-40%} --reverse $FZF_DEFAULT_OPTS $FZF_ALT_C_OPTS\" $(__fzfcmd) +m) && printf 'cd %q' \"$dir\"\n",
      "}\n"
     ]
    }
   ],
   "source": [
    "declare -f __fzf_cd__ "
   ]
  },
  {
   "cell_type": "markdown",
   "metadata": {},
   "source": [
    "5. declare -x var=value   声明变量并将变量作为脚本环境变量导出"
   ]
  },
  {
   "cell_type": "markdown",
   "metadata": {},
   "source": [
    "## 变量的间接引用"
   ]
  },
  {
   "cell_type": "markdown",
   "metadata": {},
   "source": [
    "var1=1\n",
    "var=var1\n",
    "eval echo \\$$var"
   ]
  },
  {
   "cell_type": "code",
   "execution_count": 121,
   "metadata": {},
   "outputs": [
    {
     "name": "stdout",
     "output_type": "stream",
     "text": [
      "19080a\n",
      "$b\n",
      "3\n"
     ]
    }
   ],
   "source": [
    "b=3\n",
    "a=b\n",
    "\n",
    "echo $$a\n",
    "\n",
    "echo \\$$a\n",
    "\n",
    "eval echo \\$$a"
   ]
  },
  {
   "cell_type": "markdown",
   "metadata": {},
   "source": [
    "更简便的方法  ${!var}"
   ]
  },
  {
   "cell_type": "code",
   "execution_count": 124,
   "metadata": {},
   "outputs": [
    {
     "name": "stdout",
     "output_type": "stream",
     "text": [
      "1\n",
      "a\n"
     ]
    }
   ],
   "source": [
    "a=b\n",
    "b=1\n",
    "\n",
    "echo ${!a}\n",
    "\n",
    "echo ${!a*}   #注意区别"
   ]
  },
  {
   "cell_type": "markdown",
   "metadata": {},
   "source": [
    "##  随机整数 $RANDOM"
   ]
  },
  {
   "cell_type": "markdown",
   "metadata": {},
   "source": [
    "$RANDOM是Bash的内部函数 (并不是常量), 这个函数将返回一个伪随机整数, 范围在0 - 32767之间. 它不应该被用来产生密匙."
   ]
  },
  {
   "cell_type": "code",
   "execution_count": 128,
   "metadata": {},
   "outputs": [
    {
     "name": "stdout",
     "output_type": "stream",
     "text": [
      "22714\n"
     ]
    }
   ],
   "source": [
    "echo $RANDOM"
   ]
  },
  {
   "cell_type": "markdown",
   "metadata": {},
   "source": [
    "产生指定范围内的随机数"
   ]
  },
  {
   "cell_type": "code",
   "execution_count": 135,
   "metadata": {},
   "outputs": [
    {
     "name": "stdout",
     "output_type": "stream",
     "text": [
      "7\n"
     ]
    }
   ],
   "source": [
    "echo $(($RANDOM%10))"
   ]
  },
  {
   "cell_type": "markdown",
   "metadata": {},
   "source": [
    "## 双圆括号结构"
   ]
  },
  {
   "cell_type": "markdown",
   "metadata": {},
   "source": [
    "与let命令很相似, ((...))结构允许算术扩展和赋值."
   ]
  },
  {
   "cell_type": "code",
   "execution_count": 137,
   "metadata": {},
   "outputs": [
    {
     "name": "stdout",
     "output_type": "stream",
     "text": [
      "5\n",
      "6\n"
     ]
    }
   ],
   "source": [
    "a=$((3+2))\n",
    "\n",
    "echo $a\n",
    "\n",
    "(( a = a + 1 ))\n",
    "\n",
    "echo $a"
   ]
  },
  {
   "cell_type": "markdown",
   "metadata": {},
   "source": [
    "# 循环结构"
   ]
  },
  {
   "cell_type": "markdown",
   "metadata": {},
   "source": [
    "for item in list\n",
    "do\n",
    "     cmd\n",
    "done"
   ]
  },
  {
   "cell_type": "markdown",
   "metadata": {},
   "source": [
    "```\n",
    "list格式\n",
    "\n",
    "for planet in Mercury Venus Earth Mars Jupiter Saturn Uranus Neptune Pluto\n",
    "\n",
    "for file in $FILES\n",
    "\n",
    "for file in *\n",
    "\n",
    "for file in [jx]*\n",
    "\n",
    "for number in `echo $NUMBERS`\n",
    "\n",
    "for a     #省略'in list'部分, 因此循环将会操作'$@'\n",
    "do\n",
    "    echo -n \"$a \"\n",
    "done\n",
    "\n",
    "for name in $(awk 'BEGIN{FS=\":\"}{print $1}' < \"$PASSWORD_FILE\" )\n",
    "\n",
    "```"
   ]
  },
  {
   "cell_type": "markdown",
   "metadata": {},
   "source": [
    "\n",
    "while \\[condition\\]\n",
    "\n",
    "do \n",
    "\n",
    "    command... \n",
    "    \n",
    "done\n"
   ]
  },
  {
   "cell_type": "markdown",
   "metadata": {},
   "source": [
    "多条件while循环"
   ]
  },
  {
   "cell_type": "code",
   "execution_count": 138,
   "metadata": {},
   "outputs": [
    {
     "name": "stdout",
     "output_type": "stream",
     "text": [
      "previous-variable = unset\n",
      "\n",
      "Input variable #1 (end to exit) \n",
      "variable #1 = 1\n",
      "previous-variable = unset\n",
      "\n",
      "Input variable #1 (end to exit) \n",
      "variable #1 = 2\n",
      "previous-variable = 1\n",
      "\n",
      "Input variable #1 (end to exit) \n",
      "variable #1 = 3\n",
      "previous-variable = 2\n",
      "\n",
      "Input variable #1 (end to exit) \n",
      "variable #1 = 4\n",
      "previous-variable = 3\n",
      "\n",
      "Input variable #1 (end to exit) \n",
      "variable #1 = 5\n",
      "previous-variable = 4\n",
      "\n",
      "Input variable #1 (end to exit) \n",
      "variable #1 = 6\n",
      "previous-variable = 5\n",
      "\n",
      "Input variable #1 (end to exit) \n",
      "variable #1 = 7\n",
      "previous-variable = 6\n",
      "\n",
      "Input variable #1 (end to exit) \n",
      "variable #1 = 8\n",
      "previous-variable = 7\n",
      "\n",
      "Input variable #1 (end to exit) \n",
      "variable #1 = 9\n",
      "previous-variable = 8\n",
      "\n",
      "exit\n",
      "Restarting Bash"
     ]
    }
   ],
   "source": [
    "#!/bin/bash\n",
    " \n",
    "var1=unset\n",
    "previous=$var1\n",
    "n=1\n",
    "\n",
    "while  echo \"previous-variable = $previous\"\n",
    "       echo\n",
    "       previous=$var1\n",
    "       [ \"$var1\" != end ] # 纪录之前的$var1.\n",
    "       # 这个\"while\"中有4个条件, 但是只有最后一个能够控制循环.\n",
    "       # *最后*的退出状态就是由这最后一个条件来决定. \n",
    "do\n",
    "echo \"Input variable #1 (end to exit) \"\n",
    "   #read var1\n",
    "   var1=$n\n",
    "   ((n++))\n",
    "   echo \"variable #1 = $var1\"\n",
    "   if [ $n -eq 10 ]\n",
    "   then\n",
    "       var1=end\n",
    "   fi\n",
    "\n",
    "done  \n",
    "\n",
    "exit 0"
   ]
  },
  {
   "cell_type": "markdown",
   "metadata": {},
   "source": [
    "until \\[condition-is-true\\]\n",
    "\n",
    "do \n",
    "\n",
    "    command... \n",
    "\n",
    "done"
   ]
  },
  {
   "cell_type": "markdown",
   "metadata": {},
   "source": [
    "## 循环控制  break, continue"
   ]
  },
  {
   "cell_type": "markdown",
   "metadata": {},
   "source": [
    "带参数 n 可以退出n层循环"
   ]
  },
  {
   "cell_type": "code",
   "execution_count": 150,
   "metadata": {},
   "outputs": [
    {
     "name": "stdout",
     "output_type": "stream",
     "text": [
      "outer = a\n",
      "inter = 1\n",
      "iner loop finish\n",
      "inter = 2\n",
      "continue\n",
      "inter = 3\n",
      "iner loop finish\n",
      "inter = 4\n",
      "iner loop finish\n",
      "inter = 5\n",
      "break\n",
      "outer = b\n",
      "inter = 1\n",
      "iner loop finish\n",
      "inter = 2\n",
      "continue\n",
      "inter = 3\n",
      "iner loop finish\n",
      "inter = 4\n",
      "iner loop finish\n",
      "inter = 5\n",
      "break\n",
      "outer = c\n",
      "inter = 1\n",
      "iner loop finish\n",
      "inter = 2\n",
      "continue\n",
      "inter = 3\n",
      "iner loop finish\n",
      "inter = 4\n",
      "iner loop finish\n",
      "inter = 5\n",
      "break\n",
      "outer = d\n",
      "inter = 1\n",
      "iner loop finish\n",
      "inter = 2\n",
      "continue\n",
      "inter = 3\n",
      "iner loop finish\n",
      "inter = 4\n",
      "iner loop finish\n",
      "inter = 5\n",
      "break\n",
      "outer = e\n",
      "inter = 1\n",
      "iner loop finish\n",
      "inter = 2\n",
      "continue\n",
      "inter = 3\n",
      "iner loop finish\n",
      "inter = 4\n",
      "iner loop finish\n",
      "inter = 5\n",
      "break\n",
      "outer = f\n",
      "inter = 1\n",
      "iner loop finish\n",
      "inter = 2\n",
      "continue\n",
      "inter = 3\n",
      "iner loop finish\n",
      "inter = 4\n",
      "iner loop finish\n",
      "inter = 5\n",
      "break\n",
      "outer = g\n",
      "inter = 1\n",
      "iner loop finish\n",
      "inter = 2\n",
      "continue\n",
      "inter = 3\n",
      "iner loop finish\n",
      "inter = 4\n",
      "iner loop finish\n",
      "inter = 5\n",
      "break\n",
      "outer loop finish\n",
      "exit\n",
      "Restarting Bash"
     ]
    }
   ],
   "source": [
    "#!/bin/bash\n",
    "\n",
    "for outer in a b c d e f g\n",
    "do\n",
    "    echo \"outer = $outer\"\n",
    "    for iner in  1 2 3 4 5 6 7\n",
    "    do\n",
    "        echo \"inter = $iner\"\n",
    "        if [ $iner -eq 2 ]\n",
    "        then\n",
    "            echo \"continue\"\n",
    "            continue\n",
    "        fi\n",
    "        \n",
    "        if [ $iner -eq 5 ]\n",
    "        then\n",
    "            echo \"break\"\n",
    "            break\n",
    "        fi\n",
    "        echo \"iner loop finish\"\n",
    "    done\n",
    "done\n",
    "\n",
    "echo  \"outer loop finish\"\n",
    "\n",
    "exit 0"
   ]
  },
  {
   "cell_type": "markdown",
   "metadata": {},
   "source": [
    "## case与select结构"
   ]
  },
  {
   "cell_type": "markdown",
   "metadata": {},
   "source": [
    "```\n",
    "case $var in \n",
    "\n",
    "$condition1 )   \n",
    "      cmd\n",
    "      ;;\n",
    "      \n",
    "$condition2 )      \n",
    "      cmd     \n",
    "      ;;\n",
    "      \n",
    "         * )\n",
    "      \n",
    "      cmd\n",
    "      \n",
    "      ;;\n",
    "esca\n",
    "```"
   ]
  },
  {
   "cell_type": "markdown",
   "metadata": {},
   "source": [
    "select命令使用PS3提示符\n",
    "```\n",
    "PS3=\"prompt mesg\"\n",
    "select var in list\n",
    "do\n",
    "   cmd\n",
    "   break \n",
    "done\n",
    "```"
   ]
  },
  {
   "cell_type": "markdown",
   "metadata": {},
   "source": [
    "```\n",
    "#!/bin/bash\n",
    "\n",
    "PS3='Choose your favorite vegetable: ' # 设置提示符字串\n",
    "\n",
    "select vegetable in \"beans\" \"carrots\" \"potatoes\" \"onions\" \"rutabagas\"\n",
    "do\n",
    "    echo \"Your favorite veggie is $vegetable.\"\n",
    "    echo \n",
    "    echo \"Yuck!\"\n",
    "    break   #如果没有break会一直循环\n",
    "done\n",
    "\n",
    "exit 0\n",
    "```"
   ]
  },
  {
   "cell_type": "code",
   "execution_count": null,
   "metadata": {},
   "outputs": [],
   "source": [
    "\n"
   ]
  }
 ],
 "metadata": {
  "kernelspec": {
   "display_name": "Bash",
   "language": "bash",
   "name": "bash"
  },
  "language_info": {
   "codemirror_mode": "shell",
   "file_extension": ".sh",
   "mimetype": "text/x-sh",
   "name": "bash"
  }
 },
 "nbformat": 4,
 "nbformat_minor": 2
}
